{
 "cells": [
  {
   "cell_type": "markdown",
   "metadata": {},
   "source": [
    "#         SYRIATEL CUSTOMER CHURN\n"
   ]
  },
  {
   "cell_type": "markdown",
   "metadata": {},
   "source": [
    "## PROJECT OVERVIEW\n",
    "This project uses machine learning algorithms to predict customers behaviors and also predicts the probability of which customers are more likely to churn(i.e.,leave the service provider). In this project, we will use the Telco Customer Churn dataset inorder to build a predictive model. The dataset contains **3333 records** and has **20 predictors** such as customer service calls, voice mail plans, monthlycharges, etc. The predictors will helps us learn about the customers behaviors that may result in them churning. The target variable is the customer 'churn' which tells whether a customer left the company or is still a customer. \n",
    "\n",
    "## BUSINESS UNDERSTANDING\n",
    "### Business Problem\n",
    "Telecommunication companies have several business challenges but customer churning is one of the most significant challenge. Mostly its always easier and economical to retain existing customers than acquire new ones. Currently **SyriaTel** is struggling with discountinuation of services by clients for unknown reasons. Mostly, customers churn due to various reasons such as negative customer relations, better offers from other service providers, dissaticfaction with the prices and not seeing value for their money, among other reasons. This could lead to loss of revenue, the company incurring losses due to aggressive marketing and customer acquisition and also the brand image deterioration. SyriaTel wants to develop a model which accurately predicts customers who are most likely to churn, and identify the features that are important for predicting customer churn. Syriatel can thus act to prevent the customer who is likely to churn from actually churning. \n",
    "\n",
    "### Business objectives\n",
    "The main aim of this project is to help SyriaTel in mitigating customer churn by deriving insights from analysis of the data and building a predictive model. The company can retain customers by understanding their behavior and taking decisive steps to reduce identified churn risk. The objectives of this project are as follows:\n",
    " - Build a model to predict churn probability based on their usage of services among other parameters.\n",
    " - Identify the key causes of churn.\n",
    " - Segment high-risk customers.\n",
    " - Improve customer retention by coming up with clear business recommendations.\n",
    "\n",
    "## DATA UNDERSTANDING\n",
    "For this project,we'll use the **Telco Customer Churn Dataset** which contains information about their customer deatils,services used among other details. It's a CSV(Comma Separated Values) file.\n",
    "\n",
    "### Data overview\n",
    " - **Total Records**: 3333 customers\n",
    " - **Total Features**: 20 predictor variables and 1 variable for outcome predition 'Churn'."
   ]
  },
  {
   "cell_type": "markdown",
   "metadata": {},
   "source": [
    "## DATA PREPARATION\n",
    "Before building our machine learning model,we'll begin by preparing our data by cleaning the data and performing some EDA to achieve a certain level of reliability,data quality and structure necessary for the model"
   ]
  },
  {
   "cell_type": "markdown",
   "metadata": {},
   "source": [
    "### Importing Libraries"
   ]
  },
  {
   "cell_type": "code",
   "execution_count": 2,
   "metadata": {},
   "outputs": [],
   "source": [
    "#Importing necessary libraries\n",
    "import pandas as pd\n",
    "import numpy as np\n",
    "import matplotlib.pyplot as plt\n",
    "import seaborn as sns\n",
    "from sklearn.preprocessing import LabelEncoder, StandardScaler, OneHotEncoder\n",
    "from sklearn.model_selection import train_test_split, GridSearchCV\n",
    "from sklearn.tree import DecisionTreeClassifier\n",
    "from imblearn.over_sampling import SMOTE\n",
    "from scipy.stats import ttest_ind\n",
    "from sklearn.linear_model import LogisticRegression\n",
    "from sklearn.metrics import accuracy_score, precision_score, recall_score, f1_score\n",
    "from sklearn.metrics import roc_curve, auc, roc_auc_score\n",
    "from sklearn.metrics import classification_report, confusion_matrix, ConfusionMatrixDisplay \n",
    "from sklearn.neighbors import KNeighborsClassifier\n",
    "from sklearn.ensemble import RandomForestClassifier\n",
    "from sklearn.feature_selection import RFECV\n",
    "from sklearn.pipeline import Pipeline\n",
    "from imblearn.over_sampling import SMOTE\n",
    "from sklearn.model_selection import cross_val_score\n",
    "\n",
    "%matplotlib inline\n",
    "import warnings\n",
    "warnings.filterwarnings(\"ignore\")"
   ]
  },
  {
   "cell_type": "markdown",
   "metadata": {},
   "source": [
    "### Loading Data"
   ]
  },
  {
   "cell_type": "code",
   "execution_count": 3,
   "metadata": {},
   "outputs": [
    {
     "data": {
      "application/vnd.microsoft.datawrangler.viewer.v0+json": {
       "columns": [
        {
         "name": "index",
         "rawType": "int64",
         "type": "integer"
        },
        {
         "name": "state",
         "rawType": "object",
         "type": "string"
        },
        {
         "name": "account length",
         "rawType": "int64",
         "type": "integer"
        },
        {
         "name": "area code",
         "rawType": "int64",
         "type": "integer"
        },
        {
         "name": "phone number",
         "rawType": "object",
         "type": "string"
        },
        {
         "name": "international plan",
         "rawType": "object",
         "type": "string"
        },
        {
         "name": "voice mail plan",
         "rawType": "object",
         "type": "string"
        },
        {
         "name": "number vmail messages",
         "rawType": "int64",
         "type": "integer"
        },
        {
         "name": "total day minutes",
         "rawType": "float64",
         "type": "float"
        },
        {
         "name": "total day calls",
         "rawType": "int64",
         "type": "integer"
        },
        {
         "name": "total day charge",
         "rawType": "float64",
         "type": "float"
        },
        {
         "name": "total eve minutes",
         "rawType": "float64",
         "type": "float"
        },
        {
         "name": "total eve calls",
         "rawType": "int64",
         "type": "integer"
        },
        {
         "name": "total eve charge",
         "rawType": "float64",
         "type": "float"
        },
        {
         "name": "total night minutes",
         "rawType": "float64",
         "type": "float"
        },
        {
         "name": "total night calls",
         "rawType": "int64",
         "type": "integer"
        },
        {
         "name": "total night charge",
         "rawType": "float64",
         "type": "float"
        },
        {
         "name": "total intl minutes",
         "rawType": "float64",
         "type": "float"
        },
        {
         "name": "total intl calls",
         "rawType": "int64",
         "type": "integer"
        },
        {
         "name": "total intl charge",
         "rawType": "float64",
         "type": "float"
        },
        {
         "name": "customer service calls",
         "rawType": "int64",
         "type": "integer"
        },
        {
         "name": "churn",
         "rawType": "bool",
         "type": "boolean"
        }
       ],
       "ref": "11c491b9-6a9e-4a8e-93a2-70f95fe1ae27",
       "rows": [
        [
         "0",
         "KS",
         "128",
         "415",
         "382-4657",
         "no",
         "yes",
         "25",
         "265.1",
         "110",
         "45.07",
         "197.4",
         "99",
         "16.78",
         "244.7",
         "91",
         "11.01",
         "10.0",
         "3",
         "2.7",
         "1",
         "False"
        ],
        [
         "1",
         "OH",
         "107",
         "415",
         "371-7191",
         "no",
         "yes",
         "26",
         "161.6",
         "123",
         "27.47",
         "195.5",
         "103",
         "16.62",
         "254.4",
         "103",
         "11.45",
         "13.7",
         "3",
         "3.7",
         "1",
         "False"
        ],
        [
         "2",
         "NJ",
         "137",
         "415",
         "358-1921",
         "no",
         "no",
         "0",
         "243.4",
         "114",
         "41.38",
         "121.2",
         "110",
         "10.3",
         "162.6",
         "104",
         "7.32",
         "12.2",
         "5",
         "3.29",
         "0",
         "False"
        ],
        [
         "3",
         "OH",
         "84",
         "408",
         "375-9999",
         "yes",
         "no",
         "0",
         "299.4",
         "71",
         "50.9",
         "61.9",
         "88",
         "5.26",
         "196.9",
         "89",
         "8.86",
         "6.6",
         "7",
         "1.78",
         "2",
         "False"
        ],
        [
         "4",
         "OK",
         "75",
         "415",
         "330-6626",
         "yes",
         "no",
         "0",
         "166.7",
         "113",
         "28.34",
         "148.3",
         "122",
         "12.61",
         "186.9",
         "121",
         "8.41",
         "10.1",
         "3",
         "2.73",
         "3",
         "False"
        ]
       ],
       "shape": {
        "columns": 21,
        "rows": 5
       }
      },
      "text/html": [
       "<div>\n",
       "<style scoped>\n",
       "    .dataframe tbody tr th:only-of-type {\n",
       "        vertical-align: middle;\n",
       "    }\n",
       "\n",
       "    .dataframe tbody tr th {\n",
       "        vertical-align: top;\n",
       "    }\n",
       "\n",
       "    .dataframe thead th {\n",
       "        text-align: right;\n",
       "    }\n",
       "</style>\n",
       "<table border=\"1\" class=\"dataframe\">\n",
       "  <thead>\n",
       "    <tr style=\"text-align: right;\">\n",
       "      <th></th>\n",
       "      <th>state</th>\n",
       "      <th>account length</th>\n",
       "      <th>area code</th>\n",
       "      <th>phone number</th>\n",
       "      <th>international plan</th>\n",
       "      <th>voice mail plan</th>\n",
       "      <th>number vmail messages</th>\n",
       "      <th>total day minutes</th>\n",
       "      <th>total day calls</th>\n",
       "      <th>total day charge</th>\n",
       "      <th>...</th>\n",
       "      <th>total eve calls</th>\n",
       "      <th>total eve charge</th>\n",
       "      <th>total night minutes</th>\n",
       "      <th>total night calls</th>\n",
       "      <th>total night charge</th>\n",
       "      <th>total intl minutes</th>\n",
       "      <th>total intl calls</th>\n",
       "      <th>total intl charge</th>\n",
       "      <th>customer service calls</th>\n",
       "      <th>churn</th>\n",
       "    </tr>\n",
       "  </thead>\n",
       "  <tbody>\n",
       "    <tr>\n",
       "      <th>0</th>\n",
       "      <td>KS</td>\n",
       "      <td>128</td>\n",
       "      <td>415</td>\n",
       "      <td>382-4657</td>\n",
       "      <td>no</td>\n",
       "      <td>yes</td>\n",
       "      <td>25</td>\n",
       "      <td>265.1</td>\n",
       "      <td>110</td>\n",
       "      <td>45.07</td>\n",
       "      <td>...</td>\n",
       "      <td>99</td>\n",
       "      <td>16.78</td>\n",
       "      <td>244.7</td>\n",
       "      <td>91</td>\n",
       "      <td>11.01</td>\n",
       "      <td>10.0</td>\n",
       "      <td>3</td>\n",
       "      <td>2.70</td>\n",
       "      <td>1</td>\n",
       "      <td>False</td>\n",
       "    </tr>\n",
       "    <tr>\n",
       "      <th>1</th>\n",
       "      <td>OH</td>\n",
       "      <td>107</td>\n",
       "      <td>415</td>\n",
       "      <td>371-7191</td>\n",
       "      <td>no</td>\n",
       "      <td>yes</td>\n",
       "      <td>26</td>\n",
       "      <td>161.6</td>\n",
       "      <td>123</td>\n",
       "      <td>27.47</td>\n",
       "      <td>...</td>\n",
       "      <td>103</td>\n",
       "      <td>16.62</td>\n",
       "      <td>254.4</td>\n",
       "      <td>103</td>\n",
       "      <td>11.45</td>\n",
       "      <td>13.7</td>\n",
       "      <td>3</td>\n",
       "      <td>3.70</td>\n",
       "      <td>1</td>\n",
       "      <td>False</td>\n",
       "    </tr>\n",
       "    <tr>\n",
       "      <th>2</th>\n",
       "      <td>NJ</td>\n",
       "      <td>137</td>\n",
       "      <td>415</td>\n",
       "      <td>358-1921</td>\n",
       "      <td>no</td>\n",
       "      <td>no</td>\n",
       "      <td>0</td>\n",
       "      <td>243.4</td>\n",
       "      <td>114</td>\n",
       "      <td>41.38</td>\n",
       "      <td>...</td>\n",
       "      <td>110</td>\n",
       "      <td>10.30</td>\n",
       "      <td>162.6</td>\n",
       "      <td>104</td>\n",
       "      <td>7.32</td>\n",
       "      <td>12.2</td>\n",
       "      <td>5</td>\n",
       "      <td>3.29</td>\n",
       "      <td>0</td>\n",
       "      <td>False</td>\n",
       "    </tr>\n",
       "    <tr>\n",
       "      <th>3</th>\n",
       "      <td>OH</td>\n",
       "      <td>84</td>\n",
       "      <td>408</td>\n",
       "      <td>375-9999</td>\n",
       "      <td>yes</td>\n",
       "      <td>no</td>\n",
       "      <td>0</td>\n",
       "      <td>299.4</td>\n",
       "      <td>71</td>\n",
       "      <td>50.90</td>\n",
       "      <td>...</td>\n",
       "      <td>88</td>\n",
       "      <td>5.26</td>\n",
       "      <td>196.9</td>\n",
       "      <td>89</td>\n",
       "      <td>8.86</td>\n",
       "      <td>6.6</td>\n",
       "      <td>7</td>\n",
       "      <td>1.78</td>\n",
       "      <td>2</td>\n",
       "      <td>False</td>\n",
       "    </tr>\n",
       "    <tr>\n",
       "      <th>4</th>\n",
       "      <td>OK</td>\n",
       "      <td>75</td>\n",
       "      <td>415</td>\n",
       "      <td>330-6626</td>\n",
       "      <td>yes</td>\n",
       "      <td>no</td>\n",
       "      <td>0</td>\n",
       "      <td>166.7</td>\n",
       "      <td>113</td>\n",
       "      <td>28.34</td>\n",
       "      <td>...</td>\n",
       "      <td>122</td>\n",
       "      <td>12.61</td>\n",
       "      <td>186.9</td>\n",
       "      <td>121</td>\n",
       "      <td>8.41</td>\n",
       "      <td>10.1</td>\n",
       "      <td>3</td>\n",
       "      <td>2.73</td>\n",
       "      <td>3</td>\n",
       "      <td>False</td>\n",
       "    </tr>\n",
       "  </tbody>\n",
       "</table>\n",
       "<p>5 rows × 21 columns</p>\n",
       "</div>"
      ],
      "text/plain": [
       "  state  account length  area code phone number international plan  \\\n",
       "0    KS             128        415     382-4657                 no   \n",
       "1    OH             107        415     371-7191                 no   \n",
       "2    NJ             137        415     358-1921                 no   \n",
       "3    OH              84        408     375-9999                yes   \n",
       "4    OK              75        415     330-6626                yes   \n",
       "\n",
       "  voice mail plan  number vmail messages  total day minutes  total day calls  \\\n",
       "0             yes                     25              265.1              110   \n",
       "1             yes                     26              161.6              123   \n",
       "2              no                      0              243.4              114   \n",
       "3              no                      0              299.4               71   \n",
       "4              no                      0              166.7              113   \n",
       "\n",
       "   total day charge  ...  total eve calls  total eve charge  \\\n",
       "0             45.07  ...               99             16.78   \n",
       "1             27.47  ...              103             16.62   \n",
       "2             41.38  ...              110             10.30   \n",
       "3             50.90  ...               88              5.26   \n",
       "4             28.34  ...              122             12.61   \n",
       "\n",
       "   total night minutes  total night calls  total night charge  \\\n",
       "0                244.7                 91               11.01   \n",
       "1                254.4                103               11.45   \n",
       "2                162.6                104                7.32   \n",
       "3                196.9                 89                8.86   \n",
       "4                186.9                121                8.41   \n",
       "\n",
       "   total intl minutes  total intl calls  total intl charge  \\\n",
       "0                10.0                 3               2.70   \n",
       "1                13.7                 3               3.70   \n",
       "2                12.2                 5               3.29   \n",
       "3                 6.6                 7               1.78   \n",
       "4                10.1                 3               2.73   \n",
       "\n",
       "   customer service calls  churn  \n",
       "0                       1  False  \n",
       "1                       1  False  \n",
       "2                       0  False  \n",
       "3                       2  False  \n",
       "4                       3  False  \n",
       "\n",
       "[5 rows x 21 columns]"
      ]
     },
     "execution_count": 3,
     "metadata": {},
     "output_type": "execute_result"
    }
   ],
   "source": [
    "#loading the dataset and displaying the first few rows\n",
    "customer_df = pd.read_csv('Telcocustomer_Churn.csv')\n",
    "customer_df.head()"
   ]
  },
  {
   "cell_type": "code",
   "execution_count": 4,
   "metadata": {},
   "outputs": [
    {
     "name": "stdout",
     "output_type": "stream",
     "text": [
      "<class 'pandas.core.frame.DataFrame'>\n",
      "RangeIndex: 3333 entries, 0 to 3332\n",
      "Data columns (total 21 columns):\n",
      " #   Column                  Non-Null Count  Dtype  \n",
      "---  ------                  --------------  -----  \n",
      " 0   state                   3333 non-null   object \n",
      " 1   account length          3333 non-null   int64  \n",
      " 2   area code               3333 non-null   int64  \n",
      " 3   phone number            3333 non-null   object \n",
      " 4   international plan      3333 non-null   object \n",
      " 5   voice mail plan         3333 non-null   object \n",
      " 6   number vmail messages   3333 non-null   int64  \n",
      " 7   total day minutes       3333 non-null   float64\n",
      " 8   total day calls         3333 non-null   int64  \n",
      " 9   total day charge        3333 non-null   float64\n",
      " 10  total eve minutes       3333 non-null   float64\n",
      " 11  total eve calls         3333 non-null   int64  \n",
      " 12  total eve charge        3333 non-null   float64\n",
      " 13  total night minutes     3333 non-null   float64\n",
      " 14  total night calls       3333 non-null   int64  \n",
      " 15  total night charge      3333 non-null   float64\n",
      " 16  total intl minutes      3333 non-null   float64\n",
      " 17  total intl calls        3333 non-null   int64  \n",
      " 18  total intl charge       3333 non-null   float64\n",
      " 19  customer service calls  3333 non-null   int64  \n",
      " 20  churn                   3333 non-null   bool   \n",
      "dtypes: bool(1), float64(8), int64(8), object(4)\n",
      "memory usage: 524.2+ KB\n"
     ]
    }
   ],
   "source": [
    "# Displaying the shape and basic info of the dataset\n",
    "customer_df.shape\n",
    "customer_df.info()"
   ]
  },
  {
   "cell_type": "code",
   "execution_count": 5,
   "metadata": {},
   "outputs": [
    {
     "data": {
      "application/vnd.microsoft.datawrangler.viewer.v0+json": {
       "columns": [
        {
         "name": "index",
         "rawType": "object",
         "type": "string"
        },
        {
         "name": "state",
         "rawType": "object",
         "type": "unknown"
        },
        {
         "name": "account length",
         "rawType": "float64",
         "type": "float"
        },
        {
         "name": "area code",
         "rawType": "float64",
         "type": "float"
        },
        {
         "name": "phone number",
         "rawType": "object",
         "type": "unknown"
        },
        {
         "name": "international plan",
         "rawType": "object",
         "type": "unknown"
        },
        {
         "name": "voice mail plan",
         "rawType": "object",
         "type": "unknown"
        },
        {
         "name": "number vmail messages",
         "rawType": "float64",
         "type": "float"
        },
        {
         "name": "total day minutes",
         "rawType": "float64",
         "type": "float"
        },
        {
         "name": "total day calls",
         "rawType": "float64",
         "type": "float"
        },
        {
         "name": "total day charge",
         "rawType": "float64",
         "type": "float"
        },
        {
         "name": "total eve minutes",
         "rawType": "float64",
         "type": "float"
        },
        {
         "name": "total eve calls",
         "rawType": "float64",
         "type": "float"
        },
        {
         "name": "total eve charge",
         "rawType": "float64",
         "type": "float"
        },
        {
         "name": "total night minutes",
         "rawType": "float64",
         "type": "float"
        },
        {
         "name": "total night calls",
         "rawType": "float64",
         "type": "float"
        },
        {
         "name": "total night charge",
         "rawType": "float64",
         "type": "float"
        },
        {
         "name": "total intl minutes",
         "rawType": "float64",
         "type": "float"
        },
        {
         "name": "total intl calls",
         "rawType": "float64",
         "type": "float"
        },
        {
         "name": "total intl charge",
         "rawType": "float64",
         "type": "float"
        },
        {
         "name": "customer service calls",
         "rawType": "float64",
         "type": "float"
        },
        {
         "name": "churn",
         "rawType": "object",
         "type": "unknown"
        }
       ],
       "ref": "26d43866-2a54-4b3c-9404-61c273190f7d",
       "rows": [
        [
         "count",
         "3333",
         "3333.0",
         "3333.0",
         "3333",
         "3333",
         "3333",
         "3333.0",
         "3333.0",
         "3333.0",
         "3333.0",
         "3333.0",
         "3333.0",
         "3333.0",
         "3333.0",
         "3333.0",
         "3333.0",
         "3333.0",
         "3333.0",
         "3333.0",
         "3333.0",
         "3333"
        ],
        [
         "unique",
         "51",
         null,
         null,
         "3333",
         "2",
         "2",
         null,
         null,
         null,
         null,
         null,
         null,
         null,
         null,
         null,
         null,
         null,
         null,
         null,
         null,
         "2"
        ],
        [
         "top",
         "WV",
         null,
         null,
         "382-4657",
         "no",
         "no",
         null,
         null,
         null,
         null,
         null,
         null,
         null,
         null,
         null,
         null,
         null,
         null,
         null,
         null,
         "False"
        ],
        [
         "freq",
         "106",
         null,
         null,
         "1",
         "3010",
         "2411",
         null,
         null,
         null,
         null,
         null,
         null,
         null,
         null,
         null,
         null,
         null,
         null,
         null,
         null,
         "2850"
        ],
        [
         "mean",
         null,
         "101.06480648064806",
         "437.18241824182417",
         null,
         null,
         null,
         "8.099009900990099",
         "179.77509750975094",
         "100.43564356435644",
         "30.562307230723075",
         "200.98034803480348",
         "100.11431143114311",
         "17.083540354035403",
         "200.87203720372037",
         "100.10771077107711",
         "9.03932493249325",
         "10.237293729372938",
         "4.4794479447944795",
         "2.7645814581458144",
         "1.5628562856285628",
         null
        ],
        [
         "std",
         null,
         "39.822105928595604",
         "42.371290485606224",
         null,
         null,
         null,
         "13.68836537203884",
         "54.46738920237142",
         "20.069084207300854",
         "9.259434553930507",
         "50.71384442581193",
         "19.92262529394309",
         "4.310667643110339",
         "50.5738470136583",
         "19.568609346058615",
         "2.2758728376600317",
         "2.7918395484084204",
         "2.4612142705460887",
         "0.7537726126630453",
         "1.3154910448664843",
         null
        ],
        [
         "min",
         null,
         "1.0",
         "408.0",
         null,
         null,
         null,
         "0.0",
         "0.0",
         "0.0",
         "0.0",
         "0.0",
         "0.0",
         "0.0",
         "23.2",
         "33.0",
         "1.04",
         "0.0",
         "0.0",
         "0.0",
         "0.0",
         null
        ],
        [
         "25%",
         null,
         "74.0",
         "408.0",
         null,
         null,
         null,
         "0.0",
         "143.7",
         "87.0",
         "24.43",
         "166.6",
         "87.0",
         "14.16",
         "167.0",
         "87.0",
         "7.52",
         "8.5",
         "3.0",
         "2.3",
         "1.0",
         null
        ],
        [
         "50%",
         null,
         "101.0",
         "415.0",
         null,
         null,
         null,
         "0.0",
         "179.4",
         "101.0",
         "30.5",
         "201.4",
         "100.0",
         "17.12",
         "201.2",
         "100.0",
         "9.05",
         "10.3",
         "4.0",
         "2.78",
         "1.0",
         null
        ],
        [
         "75%",
         null,
         "127.0",
         "510.0",
         null,
         null,
         null,
         "20.0",
         "216.4",
         "114.0",
         "36.79",
         "235.3",
         "114.0",
         "20.0",
         "235.3",
         "113.0",
         "10.59",
         "12.1",
         "6.0",
         "3.27",
         "2.0",
         null
        ],
        [
         "max",
         null,
         "243.0",
         "510.0",
         null,
         null,
         null,
         "51.0",
         "350.8",
         "165.0",
         "59.64",
         "363.7",
         "170.0",
         "30.91",
         "395.0",
         "175.0",
         "17.77",
         "20.0",
         "20.0",
         "5.4",
         "9.0",
         null
        ]
       ],
       "shape": {
        "columns": 21,
        "rows": 11
       }
      },
      "text/html": [
       "<div>\n",
       "<style scoped>\n",
       "    .dataframe tbody tr th:only-of-type {\n",
       "        vertical-align: middle;\n",
       "    }\n",
       "\n",
       "    .dataframe tbody tr th {\n",
       "        vertical-align: top;\n",
       "    }\n",
       "\n",
       "    .dataframe thead th {\n",
       "        text-align: right;\n",
       "    }\n",
       "</style>\n",
       "<table border=\"1\" class=\"dataframe\">\n",
       "  <thead>\n",
       "    <tr style=\"text-align: right;\">\n",
       "      <th></th>\n",
       "      <th>state</th>\n",
       "      <th>account length</th>\n",
       "      <th>area code</th>\n",
       "      <th>phone number</th>\n",
       "      <th>international plan</th>\n",
       "      <th>voice mail plan</th>\n",
       "      <th>number vmail messages</th>\n",
       "      <th>total day minutes</th>\n",
       "      <th>total day calls</th>\n",
       "      <th>total day charge</th>\n",
       "      <th>...</th>\n",
       "      <th>total eve calls</th>\n",
       "      <th>total eve charge</th>\n",
       "      <th>total night minutes</th>\n",
       "      <th>total night calls</th>\n",
       "      <th>total night charge</th>\n",
       "      <th>total intl minutes</th>\n",
       "      <th>total intl calls</th>\n",
       "      <th>total intl charge</th>\n",
       "      <th>customer service calls</th>\n",
       "      <th>churn</th>\n",
       "    </tr>\n",
       "  </thead>\n",
       "  <tbody>\n",
       "    <tr>\n",
       "      <th>count</th>\n",
       "      <td>3333</td>\n",
       "      <td>3333.000000</td>\n",
       "      <td>3333.000000</td>\n",
       "      <td>3333</td>\n",
       "      <td>3333</td>\n",
       "      <td>3333</td>\n",
       "      <td>3333.000000</td>\n",
       "      <td>3333.000000</td>\n",
       "      <td>3333.000000</td>\n",
       "      <td>3333.000000</td>\n",
       "      <td>...</td>\n",
       "      <td>3333.000000</td>\n",
       "      <td>3333.000000</td>\n",
       "      <td>3333.000000</td>\n",
       "      <td>3333.000000</td>\n",
       "      <td>3333.000000</td>\n",
       "      <td>3333.000000</td>\n",
       "      <td>3333.000000</td>\n",
       "      <td>3333.000000</td>\n",
       "      <td>3333.000000</td>\n",
       "      <td>3333</td>\n",
       "    </tr>\n",
       "    <tr>\n",
       "      <th>unique</th>\n",
       "      <td>51</td>\n",
       "      <td>NaN</td>\n",
       "      <td>NaN</td>\n",
       "      <td>3333</td>\n",
       "      <td>2</td>\n",
       "      <td>2</td>\n",
       "      <td>NaN</td>\n",
       "      <td>NaN</td>\n",
       "      <td>NaN</td>\n",
       "      <td>NaN</td>\n",
       "      <td>...</td>\n",
       "      <td>NaN</td>\n",
       "      <td>NaN</td>\n",
       "      <td>NaN</td>\n",
       "      <td>NaN</td>\n",
       "      <td>NaN</td>\n",
       "      <td>NaN</td>\n",
       "      <td>NaN</td>\n",
       "      <td>NaN</td>\n",
       "      <td>NaN</td>\n",
       "      <td>2</td>\n",
       "    </tr>\n",
       "    <tr>\n",
       "      <th>top</th>\n",
       "      <td>WV</td>\n",
       "      <td>NaN</td>\n",
       "      <td>NaN</td>\n",
       "      <td>382-4657</td>\n",
       "      <td>no</td>\n",
       "      <td>no</td>\n",
       "      <td>NaN</td>\n",
       "      <td>NaN</td>\n",
       "      <td>NaN</td>\n",
       "      <td>NaN</td>\n",
       "      <td>...</td>\n",
       "      <td>NaN</td>\n",
       "      <td>NaN</td>\n",
       "      <td>NaN</td>\n",
       "      <td>NaN</td>\n",
       "      <td>NaN</td>\n",
       "      <td>NaN</td>\n",
       "      <td>NaN</td>\n",
       "      <td>NaN</td>\n",
       "      <td>NaN</td>\n",
       "      <td>False</td>\n",
       "    </tr>\n",
       "    <tr>\n",
       "      <th>freq</th>\n",
       "      <td>106</td>\n",
       "      <td>NaN</td>\n",
       "      <td>NaN</td>\n",
       "      <td>1</td>\n",
       "      <td>3010</td>\n",
       "      <td>2411</td>\n",
       "      <td>NaN</td>\n",
       "      <td>NaN</td>\n",
       "      <td>NaN</td>\n",
       "      <td>NaN</td>\n",
       "      <td>...</td>\n",
       "      <td>NaN</td>\n",
       "      <td>NaN</td>\n",
       "      <td>NaN</td>\n",
       "      <td>NaN</td>\n",
       "      <td>NaN</td>\n",
       "      <td>NaN</td>\n",
       "      <td>NaN</td>\n",
       "      <td>NaN</td>\n",
       "      <td>NaN</td>\n",
       "      <td>2850</td>\n",
       "    </tr>\n",
       "    <tr>\n",
       "      <th>mean</th>\n",
       "      <td>NaN</td>\n",
       "      <td>101.064806</td>\n",
       "      <td>437.182418</td>\n",
       "      <td>NaN</td>\n",
       "      <td>NaN</td>\n",
       "      <td>NaN</td>\n",
       "      <td>8.099010</td>\n",
       "      <td>179.775098</td>\n",
       "      <td>100.435644</td>\n",
       "      <td>30.562307</td>\n",
       "      <td>...</td>\n",
       "      <td>100.114311</td>\n",
       "      <td>17.083540</td>\n",
       "      <td>200.872037</td>\n",
       "      <td>100.107711</td>\n",
       "      <td>9.039325</td>\n",
       "      <td>10.237294</td>\n",
       "      <td>4.479448</td>\n",
       "      <td>2.764581</td>\n",
       "      <td>1.562856</td>\n",
       "      <td>NaN</td>\n",
       "    </tr>\n",
       "    <tr>\n",
       "      <th>std</th>\n",
       "      <td>NaN</td>\n",
       "      <td>39.822106</td>\n",
       "      <td>42.371290</td>\n",
       "      <td>NaN</td>\n",
       "      <td>NaN</td>\n",
       "      <td>NaN</td>\n",
       "      <td>13.688365</td>\n",
       "      <td>54.467389</td>\n",
       "      <td>20.069084</td>\n",
       "      <td>9.259435</td>\n",
       "      <td>...</td>\n",
       "      <td>19.922625</td>\n",
       "      <td>4.310668</td>\n",
       "      <td>50.573847</td>\n",
       "      <td>19.568609</td>\n",
       "      <td>2.275873</td>\n",
       "      <td>2.791840</td>\n",
       "      <td>2.461214</td>\n",
       "      <td>0.753773</td>\n",
       "      <td>1.315491</td>\n",
       "      <td>NaN</td>\n",
       "    </tr>\n",
       "    <tr>\n",
       "      <th>min</th>\n",
       "      <td>NaN</td>\n",
       "      <td>1.000000</td>\n",
       "      <td>408.000000</td>\n",
       "      <td>NaN</td>\n",
       "      <td>NaN</td>\n",
       "      <td>NaN</td>\n",
       "      <td>0.000000</td>\n",
       "      <td>0.000000</td>\n",
       "      <td>0.000000</td>\n",
       "      <td>0.000000</td>\n",
       "      <td>...</td>\n",
       "      <td>0.000000</td>\n",
       "      <td>0.000000</td>\n",
       "      <td>23.200000</td>\n",
       "      <td>33.000000</td>\n",
       "      <td>1.040000</td>\n",
       "      <td>0.000000</td>\n",
       "      <td>0.000000</td>\n",
       "      <td>0.000000</td>\n",
       "      <td>0.000000</td>\n",
       "      <td>NaN</td>\n",
       "    </tr>\n",
       "    <tr>\n",
       "      <th>25%</th>\n",
       "      <td>NaN</td>\n",
       "      <td>74.000000</td>\n",
       "      <td>408.000000</td>\n",
       "      <td>NaN</td>\n",
       "      <td>NaN</td>\n",
       "      <td>NaN</td>\n",
       "      <td>0.000000</td>\n",
       "      <td>143.700000</td>\n",
       "      <td>87.000000</td>\n",
       "      <td>24.430000</td>\n",
       "      <td>...</td>\n",
       "      <td>87.000000</td>\n",
       "      <td>14.160000</td>\n",
       "      <td>167.000000</td>\n",
       "      <td>87.000000</td>\n",
       "      <td>7.520000</td>\n",
       "      <td>8.500000</td>\n",
       "      <td>3.000000</td>\n",
       "      <td>2.300000</td>\n",
       "      <td>1.000000</td>\n",
       "      <td>NaN</td>\n",
       "    </tr>\n",
       "    <tr>\n",
       "      <th>50%</th>\n",
       "      <td>NaN</td>\n",
       "      <td>101.000000</td>\n",
       "      <td>415.000000</td>\n",
       "      <td>NaN</td>\n",
       "      <td>NaN</td>\n",
       "      <td>NaN</td>\n",
       "      <td>0.000000</td>\n",
       "      <td>179.400000</td>\n",
       "      <td>101.000000</td>\n",
       "      <td>30.500000</td>\n",
       "      <td>...</td>\n",
       "      <td>100.000000</td>\n",
       "      <td>17.120000</td>\n",
       "      <td>201.200000</td>\n",
       "      <td>100.000000</td>\n",
       "      <td>9.050000</td>\n",
       "      <td>10.300000</td>\n",
       "      <td>4.000000</td>\n",
       "      <td>2.780000</td>\n",
       "      <td>1.000000</td>\n",
       "      <td>NaN</td>\n",
       "    </tr>\n",
       "    <tr>\n",
       "      <th>75%</th>\n",
       "      <td>NaN</td>\n",
       "      <td>127.000000</td>\n",
       "      <td>510.000000</td>\n",
       "      <td>NaN</td>\n",
       "      <td>NaN</td>\n",
       "      <td>NaN</td>\n",
       "      <td>20.000000</td>\n",
       "      <td>216.400000</td>\n",
       "      <td>114.000000</td>\n",
       "      <td>36.790000</td>\n",
       "      <td>...</td>\n",
       "      <td>114.000000</td>\n",
       "      <td>20.000000</td>\n",
       "      <td>235.300000</td>\n",
       "      <td>113.000000</td>\n",
       "      <td>10.590000</td>\n",
       "      <td>12.100000</td>\n",
       "      <td>6.000000</td>\n",
       "      <td>3.270000</td>\n",
       "      <td>2.000000</td>\n",
       "      <td>NaN</td>\n",
       "    </tr>\n",
       "    <tr>\n",
       "      <th>max</th>\n",
       "      <td>NaN</td>\n",
       "      <td>243.000000</td>\n",
       "      <td>510.000000</td>\n",
       "      <td>NaN</td>\n",
       "      <td>NaN</td>\n",
       "      <td>NaN</td>\n",
       "      <td>51.000000</td>\n",
       "      <td>350.800000</td>\n",
       "      <td>165.000000</td>\n",
       "      <td>59.640000</td>\n",
       "      <td>...</td>\n",
       "      <td>170.000000</td>\n",
       "      <td>30.910000</td>\n",
       "      <td>395.000000</td>\n",
       "      <td>175.000000</td>\n",
       "      <td>17.770000</td>\n",
       "      <td>20.000000</td>\n",
       "      <td>20.000000</td>\n",
       "      <td>5.400000</td>\n",
       "      <td>9.000000</td>\n",
       "      <td>NaN</td>\n",
       "    </tr>\n",
       "  </tbody>\n",
       "</table>\n",
       "<p>11 rows × 21 columns</p>\n",
       "</div>"
      ],
      "text/plain": [
       "       state  account length    area code phone number international plan  \\\n",
       "count   3333     3333.000000  3333.000000         3333               3333   \n",
       "unique    51             NaN          NaN         3333                  2   \n",
       "top       WV             NaN          NaN     382-4657                 no   \n",
       "freq     106             NaN          NaN            1               3010   \n",
       "mean     NaN      101.064806   437.182418          NaN                NaN   \n",
       "std      NaN       39.822106    42.371290          NaN                NaN   \n",
       "min      NaN        1.000000   408.000000          NaN                NaN   \n",
       "25%      NaN       74.000000   408.000000          NaN                NaN   \n",
       "50%      NaN      101.000000   415.000000          NaN                NaN   \n",
       "75%      NaN      127.000000   510.000000          NaN                NaN   \n",
       "max      NaN      243.000000   510.000000          NaN                NaN   \n",
       "\n",
       "       voice mail plan  number vmail messages  total day minutes  \\\n",
       "count             3333            3333.000000        3333.000000   \n",
       "unique               2                    NaN                NaN   \n",
       "top                 no                    NaN                NaN   \n",
       "freq              2411                    NaN                NaN   \n",
       "mean               NaN               8.099010         179.775098   \n",
       "std                NaN              13.688365          54.467389   \n",
       "min                NaN               0.000000           0.000000   \n",
       "25%                NaN               0.000000         143.700000   \n",
       "50%                NaN               0.000000         179.400000   \n",
       "75%                NaN              20.000000         216.400000   \n",
       "max                NaN              51.000000         350.800000   \n",
       "\n",
       "        total day calls  total day charge  ...  total eve calls  \\\n",
       "count       3333.000000       3333.000000  ...      3333.000000   \n",
       "unique              NaN               NaN  ...              NaN   \n",
       "top                 NaN               NaN  ...              NaN   \n",
       "freq                NaN               NaN  ...              NaN   \n",
       "mean         100.435644         30.562307  ...       100.114311   \n",
       "std           20.069084          9.259435  ...        19.922625   \n",
       "min            0.000000          0.000000  ...         0.000000   \n",
       "25%           87.000000         24.430000  ...        87.000000   \n",
       "50%          101.000000         30.500000  ...       100.000000   \n",
       "75%          114.000000         36.790000  ...       114.000000   \n",
       "max          165.000000         59.640000  ...       170.000000   \n",
       "\n",
       "        total eve charge  total night minutes  total night calls  \\\n",
       "count        3333.000000          3333.000000        3333.000000   \n",
       "unique               NaN                  NaN                NaN   \n",
       "top                  NaN                  NaN                NaN   \n",
       "freq                 NaN                  NaN                NaN   \n",
       "mean           17.083540           200.872037         100.107711   \n",
       "std             4.310668            50.573847          19.568609   \n",
       "min             0.000000            23.200000          33.000000   \n",
       "25%            14.160000           167.000000          87.000000   \n",
       "50%            17.120000           201.200000         100.000000   \n",
       "75%            20.000000           235.300000         113.000000   \n",
       "max            30.910000           395.000000         175.000000   \n",
       "\n",
       "        total night charge  total intl minutes  total intl calls  \\\n",
       "count          3333.000000         3333.000000       3333.000000   \n",
       "unique                 NaN                 NaN               NaN   \n",
       "top                    NaN                 NaN               NaN   \n",
       "freq                   NaN                 NaN               NaN   \n",
       "mean              9.039325           10.237294          4.479448   \n",
       "std               2.275873            2.791840          2.461214   \n",
       "min               1.040000            0.000000          0.000000   \n",
       "25%               7.520000            8.500000          3.000000   \n",
       "50%               9.050000           10.300000          4.000000   \n",
       "75%              10.590000           12.100000          6.000000   \n",
       "max              17.770000           20.000000         20.000000   \n",
       "\n",
       "        total intl charge  customer service calls  churn  \n",
       "count         3333.000000             3333.000000   3333  \n",
       "unique                NaN                     NaN      2  \n",
       "top                   NaN                     NaN  False  \n",
       "freq                  NaN                     NaN   2850  \n",
       "mean             2.764581                1.562856    NaN  \n",
       "std              0.753773                1.315491    NaN  \n",
       "min              0.000000                0.000000    NaN  \n",
       "25%              2.300000                1.000000    NaN  \n",
       "50%              2.780000                1.000000    NaN  \n",
       "75%              3.270000                2.000000    NaN  \n",
       "max              5.400000                9.000000    NaN  \n",
       "\n",
       "[11 rows x 21 columns]"
      ]
     },
     "execution_count": 5,
     "metadata": {},
     "output_type": "execute_result"
    }
   ],
   "source": [
    "# statistical summary of the dataset\n",
    "customer_df.describe(include='all')"
   ]
  },
  {
   "cell_type": "code",
   "execution_count": 6,
   "metadata": {},
   "outputs": [
    {
     "data": {
      "application/vnd.microsoft.datawrangler.viewer.v0+json": {
       "columns": [
        {
         "name": "index",
         "rawType": "object",
         "type": "string"
        },
        {
         "name": "0",
         "rawType": "int64",
         "type": "integer"
        }
       ],
       "ref": "09e5ad83-0152-4799-afde-8b0c9a2c6540",
       "rows": [
        [
         "state",
         "0"
        ],
        [
         "account length",
         "0"
        ],
        [
         "area code",
         "0"
        ],
        [
         "phone number",
         "0"
        ],
        [
         "international plan",
         "0"
        ],
        [
         "voice mail plan",
         "0"
        ],
        [
         "number vmail messages",
         "0"
        ],
        [
         "total day minutes",
         "0"
        ],
        [
         "total day calls",
         "0"
        ],
        [
         "total day charge",
         "0"
        ],
        [
         "total eve minutes",
         "0"
        ],
        [
         "total eve calls",
         "0"
        ],
        [
         "total eve charge",
         "0"
        ],
        [
         "total night minutes",
         "0"
        ],
        [
         "total night calls",
         "0"
        ],
        [
         "total night charge",
         "0"
        ],
        [
         "total intl minutes",
         "0"
        ],
        [
         "total intl calls",
         "0"
        ],
        [
         "total intl charge",
         "0"
        ],
        [
         "customer service calls",
         "0"
        ],
        [
         "churn",
         "0"
        ]
       ],
       "shape": {
        "columns": 1,
        "rows": 21
       }
      },
      "text/plain": [
       "state                     0\n",
       "account length            0\n",
       "area code                 0\n",
       "phone number              0\n",
       "international plan        0\n",
       "voice mail plan           0\n",
       "number vmail messages     0\n",
       "total day minutes         0\n",
       "total day calls           0\n",
       "total day charge          0\n",
       "total eve minutes         0\n",
       "total eve calls           0\n",
       "total eve charge          0\n",
       "total night minutes       0\n",
       "total night calls         0\n",
       "total night charge        0\n",
       "total intl minutes        0\n",
       "total intl calls          0\n",
       "total intl charge         0\n",
       "customer service calls    0\n",
       "churn                     0\n",
       "dtype: int64"
      ]
     },
     "execution_count": 6,
     "metadata": {},
     "output_type": "execute_result"
    }
   ],
   "source": [
    "# checking for missing values\n",
    "customer_df.isnull().sum()"
   ]
  },
  {
   "cell_type": "markdown",
   "metadata": {},
   "source": [
    "The dataset has no missing values,contains 3333 records and 20 columns that will be our predictors and 1 that is our target variable. It comprises of both numerical and categorical variables."
   ]
  },
  {
   "cell_type": "markdown",
   "metadata": {},
   "source": [
    "### Target Variable Analysis\n",
    "Churn is our target variable for this project,lets have an indepth analysis of it."
   ]
  },
  {
   "cell_type": "code",
   "execution_count": 7,
   "metadata": {},
   "outputs": [
    {
     "data": {
      "application/vnd.microsoft.datawrangler.viewer.v0+json": {
       "columns": [
        {
         "name": "churn",
         "rawType": "bool",
         "type": "boolean"
        },
        {
         "name": "count",
         "rawType": "int64",
         "type": "integer"
        }
       ],
       "ref": "28865c1f-6153-479d-98ac-8210e0acdcce",
       "rows": [
        [
         "False",
         "2850"
        ],
        [
         "True",
         "483"
        ]
       ],
       "shape": {
        "columns": 1,
        "rows": 2
       }
      },
      "text/plain": [
       "churn\n",
       "False    2850\n",
       "True      483\n",
       "Name: count, dtype: int64"
      ]
     },
     "execution_count": 7,
     "metadata": {},
     "output_type": "execute_result"
    }
   ],
   "source": [
    "# checking distribution of churn\n",
    "customer_df['churn'].value_counts()"
   ]
  },
  {
   "cell_type": "code",
   "execution_count": 8,
   "metadata": {},
   "outputs": [
    {
     "data": {
      "application/vnd.microsoft.datawrangler.viewer.v0+json": {
       "columns": [
        {
         "name": "churn",
         "rawType": "bool",
         "type": "boolean"
        },
        {
         "name": "proportion",
         "rawType": "float64",
         "type": "float"
        }
       ],
       "ref": "0789ca67-7aad-42d3-be10-26470b220985",
       "rows": [
        [
         "False",
         "85.5085508550855"
        ],
        [
         "True",
         "14.491449144914492"
        ]
       ],
       "shape": {
        "columns": 1,
        "rows": 2
       }
      },
      "text/plain": [
       "churn\n",
       "False    85.508551\n",
       "True     14.491449\n",
       "Name: proportion, dtype: float64"
      ]
     },
     "execution_count": 8,
     "metadata": {},
     "output_type": "execute_result"
    }
   ],
   "source": [
    "#checking churn percentage\n",
    "customer_df['churn'].value_counts(normalize=True)*100"
   ]
  },
  {
   "cell_type": "code",
   "execution_count": 9,
   "metadata": {},
   "outputs": [
    {
     "data": {
      "image/png": "[encoded data removed]",
      "text/plain": [
       "<Figure size 640x480 with 1 Axes>"
      ]
     },
     "metadata": {},
     "output_type": "display_data"
    }
   ],
   "source": [
    "# visualizing the churn distribution\n",
    "sns.countplot(x='churn', data=customer_df, palette='Set2')\n",
    "plt.title('Churn Distribution')\n",
    "plt.show()"
   ]
  },
  {
   "cell_type": "markdown",
   "metadata": {},
   "source": [
    "From the analysis above,it clearly shows that there is a class imbalance where the number of customers who didn't churn make up the highest percentage(85%) and those who churned makes the left(15%).This could lead to our analysis favouring the majority class which can defeat the purpose of this analysis."
   ]
  },
  {
   "cell_type": "markdown",
   "metadata": {},
   "source": [
    "### Categorical predictors vs Churn"
   ]
  },
  {
   "cell_type": "code",
   "execution_count": 10,
   "metadata": {},
   "outputs": [
    {
     "data": {
      "application/vnd.microsoft.datawrangler.viewer.v0+json": {
       "columns": [
        {
         "name": "index",
         "rawType": "int64",
         "type": "integer"
        },
        {
         "name": "state",
         "rawType": "object",
         "type": "string"
        },
        {
         "name": "phone number",
         "rawType": "object",
         "type": "string"
        },
        {
         "name": "international plan",
         "rawType": "object",
         "type": "string"
        },
        {
         "name": "voice mail plan",
         "rawType": "object",
         "type": "string"
        }
       ],
       "ref": "ba789962-1c0c-4b2e-b53c-02497ae58106",
       "rows": [
        [
         "0",
         "KS",
         "382-4657",
         "no",
         "yes"
        ],
        [
         "1",
         "OH",
         "371-7191",
         "no",
         "yes"
        ],
        [
         "2",
         "NJ",
         "358-1921",
         "no",
         "no"
        ],
        [
         "3",
         "OH",
         "375-9999",
         "yes",
         "no"
        ],
        [
         "4",
         "OK",
         "330-6626",
         "yes",
         "no"
        ],
        [
         "5",
         "AL",
         "391-8027",
         "yes",
         "no"
        ],
        [
         "6",
         "MA",
         "355-9993",
         "no",
         "yes"
        ],
        [
         "7",
         "MO",
         "329-9001",
         "yes",
         "no"
        ],
        [
         "8",
         "LA",
         "335-4719",
         "no",
         "no"
        ],
        [
         "9",
         "WV",
         "330-8173",
         "yes",
         "yes"
        ],
        [
         "10",
         "IN",
         "329-6603",
         "no",
         "no"
        ],
        [
         "11",
         "RI",
         "344-9403",
         "no",
         "no"
        ],
        [
         "12",
         "IA",
         "363-1107",
         "no",
         "no"
        ],
        [
         "13",
         "MT",
         "394-8006",
         "no",
         "no"
        ],
        [
         "14",
         "IA",
         "366-9238",
         "no",
         "no"
        ],
        [
         "15",
         "NY",
         "351-7269",
         "no",
         "no"
        ],
        [
         "16",
         "ID",
         "350-8884",
         "no",
         "yes"
        ],
        [
         "17",
         "VT",
         "386-2923",
         "no",
         "no"
        ],
        [
         "18",
         "VA",
         "356-2992",
         "no",
         "yes"
        ],
        [
         "19",
         "TX",
         "373-2782",
         "no",
         "no"
        ],
        [
         "20",
         "FL",
         "396-5800",
         "no",
         "no"
        ],
        [
         "21",
         "CO",
         "393-7984",
         "no",
         "no"
        ],
        [
         "22",
         "AZ",
         "358-1958",
         "no",
         "no"
        ],
        [
         "23",
         "SC",
         "350-2565",
         "no",
         "no"
        ],
        [
         "24",
         "VA",
         "343-4696",
         "no",
         "no"
        ],
        [
         "25",
         "NE",
         "331-3698",
         "no",
         "no"
        ],
        [
         "26",
         "WY",
         "357-3817",
         "no",
         "yes"
        ],
        [
         "27",
         "MT",
         "418-6412",
         "no",
         "no"
        ],
        [
         "28",
         "MO",
         "353-2630",
         "no",
         "no"
        ],
        [
         "29",
         "HI",
         "410-7789",
         "no",
         "no"
        ],
        [
         "30",
         "IL",
         "416-8428",
         "no",
         "no"
        ],
        [
         "31",
         "NH",
         "370-3359",
         "no",
         "no"
        ],
        [
         "32",
         "LA",
         "383-1121",
         "no",
         "no"
        ],
        [
         "33",
         "AZ",
         "360-1596",
         "no",
         "no"
        ],
        [
         "34",
         "OK",
         "395-2854",
         "no",
         "yes"
        ],
        [
         "35",
         "GA",
         "362-1407",
         "no",
         "yes"
        ],
        [
         "36",
         "AK",
         "341-9764",
         "no",
         "yes"
        ],
        [
         "37",
         "MA",
         "353-3305",
         "no",
         "no"
        ],
        [
         "38",
         "AK",
         "402-1381",
         "yes",
         "yes"
        ],
        [
         "39",
         "NJ",
         "332-9891",
         "no",
         "no"
        ],
        [
         "40",
         "GA",
         "372-9976",
         "no",
         "no"
        ],
        [
         "41",
         "MD",
         "383-6029",
         "yes",
         "yes"
        ],
        [
         "42",
         "AR",
         "353-7289",
         "no",
         "no"
        ],
        [
         "43",
         "ID",
         "390-7274",
         "no",
         "no"
        ],
        [
         "44",
         "WI",
         "352-1237",
         "no",
         "no"
        ],
        [
         "45",
         "OR",
         "353-3061",
         "no",
         "yes"
        ],
        [
         "46",
         "MI",
         "363-5450",
         "no",
         "no"
        ],
        [
         "47",
         "DE",
         "364-1995",
         "no",
         "no"
        ],
        [
         "48",
         "ID",
         "398-1294",
         "no",
         "no"
        ],
        [
         "49",
         "WY",
         "405-7146",
         "no",
         "yes"
        ]
       ],
       "shape": {
        "columns": 4,
        "rows": 3333
       }
      },
      "text/html": [
       "<div>\n",
       "<style scoped>\n",
       "    .dataframe tbody tr th:only-of-type {\n",
       "        vertical-align: middle;\n",
       "    }\n",
       "\n",
       "    .dataframe tbody tr th {\n",
       "        vertical-align: top;\n",
       "    }\n",
       "\n",
       "    .dataframe thead th {\n",
       "        text-align: right;\n",
       "    }\n",
       "</style>\n",
       "<table border=\"1\" class=\"dataframe\">\n",
       "  <thead>\n",
       "    <tr style=\"text-align: right;\">\n",
       "      <th></th>\n",
       "      <th>state</th>\n",
       "      <th>phone number</th>\n",
       "      <th>international plan</th>\n",
       "      <th>voice mail plan</th>\n",
       "    </tr>\n",
       "  </thead>\n",
       "  <tbody>\n",
       "    <tr>\n",
       "      <th>0</th>\n",
       "      <td>KS</td>\n",
       "      <td>382-4657</td>\n",
       "      <td>no</td>\n",
       "      <td>yes</td>\n",
       "    </tr>\n",
       "    <tr>\n",
       "      <th>1</th>\n",
       "      <td>OH</td>\n",
       "      <td>371-7191</td>\n",
       "      <td>no</td>\n",
       "      <td>yes</td>\n",
       "    </tr>\n",
       "    <tr>\n",
       "      <th>2</th>\n",
       "      <td>NJ</td>\n",
       "      <td>358-1921</td>\n",
       "      <td>no</td>\n",
       "      <td>no</td>\n",
       "    </tr>\n",
       "    <tr>\n",
       "      <th>3</th>\n",
       "      <td>OH</td>\n",
       "      <td>375-9999</td>\n",
       "      <td>yes</td>\n",
       "      <td>no</td>\n",
       "    </tr>\n",
       "    <tr>\n",
       "      <th>4</th>\n",
       "      <td>OK</td>\n",
       "      <td>330-6626</td>\n",
       "      <td>yes</td>\n",
       "      <td>no</td>\n",
       "    </tr>\n",
       "    <tr>\n",
       "      <th>...</th>\n",
       "      <td>...</td>\n",
       "      <td>...</td>\n",
       "      <td>...</td>\n",
       "      <td>...</td>\n",
       "    </tr>\n",
       "    <tr>\n",
       "      <th>3328</th>\n",
       "      <td>AZ</td>\n",
       "      <td>414-4276</td>\n",
       "      <td>no</td>\n",
       "      <td>yes</td>\n",
       "    </tr>\n",
       "    <tr>\n",
       "      <th>3329</th>\n",
       "      <td>WV</td>\n",
       "      <td>370-3271</td>\n",
       "      <td>no</td>\n",
       "      <td>no</td>\n",
       "    </tr>\n",
       "    <tr>\n",
       "      <th>3330</th>\n",
       "      <td>RI</td>\n",
       "      <td>328-8230</td>\n",
       "      <td>no</td>\n",
       "      <td>no</td>\n",
       "    </tr>\n",
       "    <tr>\n",
       "      <th>3331</th>\n",
       "      <td>CT</td>\n",
       "      <td>364-6381</td>\n",
       "      <td>yes</td>\n",
       "      <td>no</td>\n",
       "    </tr>\n",
       "    <tr>\n",
       "      <th>3332</th>\n",
       "      <td>TN</td>\n",
       "      <td>400-4344</td>\n",
       "      <td>no</td>\n",
       "      <td>yes</td>\n",
       "    </tr>\n",
       "  </tbody>\n",
       "</table>\n",
       "<p>3333 rows × 4 columns</p>\n",
       "</div>"
      ],
      "text/plain": [
       "     state phone number international plan voice mail plan\n",
       "0       KS     382-4657                 no             yes\n",
       "1       OH     371-7191                 no             yes\n",
       "2       NJ     358-1921                 no              no\n",
       "3       OH     375-9999                yes              no\n",
       "4       OK     330-6626                yes              no\n",
       "...    ...          ...                ...             ...\n",
       "3328    AZ     414-4276                 no             yes\n",
       "3329    WV     370-3271                 no              no\n",
       "3330    RI     328-8230                 no              no\n",
       "3331    CT     364-6381                yes              no\n",
       "3332    TN     400-4344                 no             yes\n",
       "\n",
       "[3333 rows x 4 columns]"
      ]
     },
     "execution_count": 10,
     "metadata": {},
     "output_type": "execute_result"
    }
   ],
   "source": [
    "cat_predictors = customer_df.select_dtypes(include=['object'])\n",
    "cat_predictors"
   ]
  },
  {
   "cell_type": "code",
   "execution_count": 11,
   "metadata": {},
   "outputs": [
    {
     "data": {
      "image/png": "[encoded data removed]",
      "text/plain": [
       "<Figure size 1000x400 with 1 Axes>"
      ]
     },
     "metadata": {},
     "output_type": "display_data"
    },
    {
     "data": {
      "image/png": "[encoded data removed]",
      "text/plain": [
       "<Figure size 1000x400 with 1 Axes>"
      ]
     },
     "metadata": {},
     "output_type": "display_data"
    },
    {
     "data": {
      "image/png": "[encoded data removed]",
      "text/plain": [
       "<Figure size 1000x400 with 1 Axes>"
      ]
     },
     "metadata": {},
     "output_type": "display_data"
    },
    {
     "data": {
      "image/png": "[encoded data removed]",
      "text/plain": [
       "<Figure size 1000x400 with 1 Axes>"
      ]
     },
     "metadata": {},
     "output_type": "display_data"
    }
   ],
   "source": [
    "for col in cat_predictors:\n",
    "    plt.figure(figsize=(10,4))\n",
    "    sns.countplot(x=col, hue='churn', data=customer_df, palette='Set2')\n",
    "    plt.title('{col}by Churn')\n",
    "    plt.xticks(rotation=45)\n",
    "    plt.show()\n"
   ]
  },
  {
   "cell_type": "code",
   "execution_count": 12,
   "metadata": {},
   "outputs": [
    {
     "name": "stdout",
     "output_type": "stream",
     "text": [
      "\n",
      "odds ratio for state:\n",
      "state\n",
      "NJ    0.360000\n",
      "CA    0.360000\n",
      "TX    0.333333\n",
      "MD    0.320755\n",
      "SC    0.304348\n",
      "MI    0.280702\n",
      "MS    0.274510\n",
      "NV    0.269231\n",
      "WA    0.269231\n",
      "ME    0.265306\n",
      "MT    0.259259\n",
      "AR    0.250000\n",
      "KS    0.228070\n",
      "NY    0.220588\n",
      "MN    0.217391\n",
      "PA    0.216216\n",
      "MA    0.203704\n",
      "CT    0.193548\n",
      "NC    0.192982\n",
      "NH    0.191489\n",
      "GA    0.173913\n",
      "DE    0.173077\n",
      "OK    0.173077\n",
      "OR    0.164179\n",
      "UT    0.161290\n",
      "CO    0.157895\n",
      "KY    0.156863\n",
      "SD    0.153846\n",
      "OH    0.147059\n",
      "FL    0.145455\n",
      "IN    0.145161\n",
      "ID    0.140625\n",
      "WY    0.132353\n",
      "MO    0.125000\n",
      "VT    0.123077\n",
      "AL    0.111111\n",
      "NM    0.107143\n",
      "ND    0.107143\n",
      "WV    0.104167\n",
      "TN    0.104167\n",
      "DC    0.102041\n",
      "RI    0.101695\n",
      "WI    0.098592\n",
      "IL    0.094340\n",
      "NE    0.089286\n",
      "LA    0.085106\n",
      "IA    0.073171\n",
      "VA    0.069444\n",
      "AZ    0.066667\n",
      "AK    0.061224\n",
      "HI    0.060000\n",
      "Name: 1, dtype: float64\n",
      "\n",
      "odds ratio for phone number:\n",
      "phone number\n",
      "342-1004    inf\n",
      "367-8168    inf\n",
      "408-5322    inf\n",
      "387-5860    inf\n",
      "366-8939    inf\n",
      "           ... \n",
      "360-3126    0.0\n",
      "360-3525    0.0\n",
      "360-4320    0.0\n",
      "360-5636    0.0\n",
      "422-9964    0.0\n",
      "Name: 1, Length: 3333, dtype: float64\n",
      "\n",
      "odds ratio for international plan:\n",
      "international plan\n",
      "yes    0.736559\n",
      "no     0.129880\n",
      "Name: 1, dtype: float64\n",
      "\n",
      "odds ratio for voice mail plan:\n",
      "voice mail plan\n",
      "no     0.200697\n",
      "yes    0.095012\n",
      "Name: 1, dtype: float64\n"
     ]
    }
   ],
   "source": [
    "#encoding churn to be binary\n",
    "customer_df['churn_encoded'] = customer_df['churn'].apply(lambda x: 1 if x in['yes', True, 'churn'] else 0)\n",
    "churn_encoded = customer_df['churn_encoded']\n",
    "churn_encoded.value_counts()\n",
    "#odd ratio analysis\n",
    "for col in cat_predictors:\n",
    "    ct =pd.crosstab(customer_df[col], customer_df['churn_encoded'], normalize='index')\n",
    "    odds_ratio = (ct[1]/(1-ct[1])).sort_values(ascending=False)\n",
    "    print(f'\\nodds ratio for {col}:')\n",
    "    print(odds_ratio)\n"
   ]
  },
  {
   "cell_type": "markdown",
   "metadata": {},
   "source": [
    "From the analysis above of categorical predictors we can make the following observations:\n",
    "  - Customers with international plans has higher chances of churning as compared to those without, this is our most strongest predictor from our analysis.\n",
    "  - Customers without a voice plan are more likely to churn  as compared to those without a plan.This can make a good retention factor."
   ]
  },
  {
   "cell_type": "code",
   "execution_count": 13,
   "metadata": {},
   "outputs": [
    {
     "name": "stdout",
     "output_type": "stream",
     "text": [
      "Index(['account length', 'area code', 'number vmail messages',\n",
      "       'total day minutes', 'total day calls', 'total day charge',\n",
      "       'total eve minutes', 'total eve calls', 'total eve charge',\n",
      "       'total night minutes', 'total night calls', 'total night charge',\n",
      "       'total intl minutes', 'total intl calls', 'total intl charge',\n",
      "       'customer service calls', 'churn_encoded'],\n",
      "      dtype='object')\n"
     ]
    }
   ],
   "source": [
    "num_columns= customer_df.select_dtypes(include=['int64','float64']).columns\n",
    "print(num_columns)"
   ]
  },
  {
   "cell_type": "code",
   "execution_count": 14,
   "metadata": {},
   "outputs": [
    {
     "data": {
      "image/png": "[encoded data removed]",
      "text/plain": [
       "<Figure size 2000x1500 with 20 Axes>"
      ]
     },
     "metadata": {},
     "output_type": "display_data"
    }
   ],
   "source": [
    "customer_df[num_columns].hist(bins=30,figsize=(20,15),color='green',edgecolor='black')\n",
    "plt.suptitle('Distribution of Numerical Features')\n",
    "plt.show()"
   ]
  },
  {
   "cell_type": "code",
   "execution_count": 15,
   "metadata": {},
   "outputs": [
    {
     "data": {
      "image/png": "[encoded data removed]",
      "text/plain": [
       "<Figure size 640x480 with 1 Axes>"
      ]
     },
     "metadata": {},
     "output_type": "display_data"
    }
   ],
   "source": [
    "sns.countplot(x='customer service calls', hue='churn', data=customer_df, palette='Set2')\n",
    "plt.title('customer service calls by churn')\n",
    "plt.show()"
   ]
  },
  {
   "cell_type": "code",
   "execution_count": 16,
   "metadata": {},
   "outputs": [
    {
     "data": {
      "text/plain": [
       "['customer service calls',\n",
       " 'total day calls',\n",
       " 'total day charge',\n",
       " 'total eve calls',\n",
       " 'total eve charge',\n",
       " 'total night calls',\n",
       " 'total night charge',\n",
       " 'total intl calls',\n",
       " 'total intl charge']"
      ]
     },
     "execution_count": 16,
     "metadata": {},
     "output_type": "execute_result"
    }
   ],
   "source": [
    "numerical_cols=['customer service calls','total day calls','total day charge','total eve calls','total eve charge','total night calls','total night charge','total intl calls','total intl charge']\n",
    "numerical_cols"
   ]
  },
  {
   "cell_type": "code",
   "execution_count": 17,
   "metadata": {},
   "outputs": [
    {
     "name": "stdout",
     "output_type": "stream",
     "text": [
      "account length: t-statistic=0.95,p-value=0.3398\n",
      "area code: t-statistic=0.36,p-value=0.7216\n",
      "number vmail messages: t-statistic=-5.20,p-value=0.0000\n",
      "total day minutes: t-statistic=12.10,p-value=0.0000\n",
      "total day calls: t-statistic=1.07,p-value=0.2867\n",
      "total day charge: t-statistic=12.10,p-value=0.0000\n",
      "total eve minutes: t-statistic=5.38,p-value=0.0000\n",
      "total eve calls: t-statistic=0.53,p-value=0.5941\n",
      "total eve charge: t-statistic=5.38,p-value=0.0000\n",
      "total night minutes: t-statistic=2.05,p-value=0.0405\n",
      "total night calls: t-statistic=0.35,p-value=0.7230\n",
      "total night charge: t-statistic=2.05,p-value=0.0405\n",
      "total intl minutes: t-statistic=3.95,p-value=0.0001\n",
      "total intl calls: t-statistic=-3.05,p-value=0.0023\n",
      "total intl charge: t-statistic=3.95,p-value=0.0001\n",
      "customer service calls: t-statistic=12.32,p-value=0.0000\n",
      "churn_encoded: t-statistic=inf,p-value=0.0000\n"
     ]
    }
   ],
   "source": [
    "for col in num_columns:\n",
    "    group1 = customer_df[customer_df['churn']==True][col]\n",
    "    group2 = customer_df[customer_df['churn']==False][col]\n",
    "    t_stat, p= ttest_ind(group1, group2)\n",
    "    print(f'{col}: t-statistic={t_stat:.2f},p-value={p:.4f}')\n"
   ]
  },
  {
   "cell_type": "code",
   "execution_count": 18,
   "metadata": {},
   "outputs": [
    {
     "data": {
      "application/vnd.microsoft.datawrangler.viewer.v0+json": {
       "columns": [
        {
         "name": "index",
         "rawType": "object",
         "type": "string"
        },
        {
         "name": "churn",
         "rawType": "float64",
         "type": "float"
        }
       ],
       "ref": "3caaebd9-d4f6-4581-b7d8-33a51c54b716",
       "rows": [
        [
         "churn_encoded",
         "1.0"
        ],
        [
         "churn",
         "1.0"
        ],
        [
         "customer service calls",
         "0.2087499987837943"
        ],
        [
         "total day minutes",
         "0.2051508292613895"
        ],
        [
         "total day charge",
         "0.2051507431701543"
        ],
        [
         "total eve minutes",
         "0.09279579031259134"
        ],
        [
         "total eve charge",
         "0.09278603942871408"
        ],
        [
         "total intl charge",
         "0.06825863150391505"
        ],
        [
         "total intl minutes",
         "0.06823877562717748"
        ],
        [
         "total night charge",
         "0.03549555624050651"
        ],
        [
         "total night minutes",
         "0.03549285342127397"
        ],
        [
         "total day calls",
         "0.018459311608577174"
        ],
        [
         "account length",
         "0.016540742243674175"
        ],
        [
         "total eve calls",
         "0.009233131913078188"
        ],
        [
         "area code",
         "0.006174233160678332"
        ],
        [
         "total night calls",
         "0.00614120300739976"
        ],
        [
         "total intl calls",
         "-0.05284433577413788"
        ],
        [
         "number vmail messages",
         "-0.08972796983506393"
        ]
       ],
       "shape": {
        "columns": 1,
        "rows": 18
       }
      },
      "text/plain": [
       "churn_encoded             1.000000\n",
       "churn                     1.000000\n",
       "customer service calls    0.208750\n",
       "total day minutes         0.205151\n",
       "total day charge          0.205151\n",
       "total eve minutes         0.092796\n",
       "total eve charge          0.092786\n",
       "total intl charge         0.068259\n",
       "total intl minutes        0.068239\n",
       "total night charge        0.035496\n",
       "total night minutes       0.035493\n",
       "total day calls           0.018459\n",
       "account length            0.016541\n",
       "total eve calls           0.009233\n",
       "area code                 0.006174\n",
       "total night calls         0.006141\n",
       "total intl calls         -0.052844\n",
       "number vmail messages    -0.089728\n",
       "Name: churn, dtype: float64"
      ]
     },
     "execution_count": 18,
     "metadata": {},
     "output_type": "execute_result"
    }
   ],
   "source": [
    "corr_matrix = customer_df.corr(numeric_only=True)['churn'].sort_values(ascending=False)\n",
    "corr_matrix"
   ]
  },
  {
   "cell_type": "markdown",
   "metadata": {},
   "source": [
    "### Key findings for our Analysis into numerical columns\n",
    "Most significant finding;\n",
    "  - Customer service call is the strongest predictor with a p-value of 0.00,t=12.32 and a correlation of (0.209) which is the highest\n",
    "  - Daytime service usage and metric has a p-value of 0.00,t=12.10 and a correlation of (0.205)\n",
    "  - Evening service usage and metric has a p-value of 0.00,t=5.38 and a correlation of (0.093)\n",
    "  - International usage and metric has a p-value of 0.00,t=3.95 and a correlation of (0.068)\n",
    "\n",
    "Night service usage and metric shows minimum significance in our analysis.\n",
    "\n"
   ]
  },
  {
   "cell_type": "markdown",
   "metadata": {},
   "source": [
    "## Data preparation for Machine Learning"
   ]
  },
  {
   "cell_type": "markdown",
   "metadata": {},
   "source": [
    "### Handling Multicollinerity"
   ]
  },
  {
   "cell_type": "code",
   "execution_count": 19,
   "metadata": {},
   "outputs": [],
   "source": [
    "# Calculating the correlation matrix\n",
    "corr_matrix= customer_df.select_dtypes(include=['number']).corr().abs()\n",
    "# Creating a True/False mask and applying it\n",
    "mask = np.triu(np.ones_like(corr_matrix, dtype=bool))\n",
    "tri_df = corr_matrix.mask(mask)\n",
    "\n",
    "# Listing column names of highly correlated features (r > 0.75)\n",
    "to_drop = [c for c in tri_df.columns if any(tri_df[c] >  0.75)]\n",
    "\n",
    "customer_df = customer_df.drop(to_drop, axis=1) # Dropping the highly correlated features"
   ]
  },
  {
   "cell_type": "markdown",
   "metadata": {},
   "source": [
    "### Transforming categorical predictors"
   ]
  },
  {
   "cell_type": "code",
   "execution_count": 20,
   "metadata": {},
   "outputs": [],
   "source": [
    "# label encoding categorical variables\n",
    "encoder = LabelEncoder()\n",
    "customer_df['international plan'] = encoder.fit_transform(customer_df['international plan'])\n",
    "customer_df['voice mail plan'] = encoder.fit_transform(customer_df['voice mail plan'])\n"
   ]
  },
  {
   "cell_type": "code",
   "execution_count": 21,
   "metadata": {},
   "outputs": [
    {
     "data": {
      "application/vnd.microsoft.datawrangler.viewer.v0+json": {
       "columns": [
        {
         "name": "index",
         "rawType": "int64",
         "type": "integer"
        },
        {
         "name": "state",
         "rawType": "object",
         "type": "string"
        },
        {
         "name": "account length",
         "rawType": "int64",
         "type": "integer"
        },
        {
         "name": "area code",
         "rawType": "int64",
         "type": "integer"
        },
        {
         "name": "phone number",
         "rawType": "object",
         "type": "string"
        },
        {
         "name": "international plan",
         "rawType": "int32",
         "type": "integer"
        },
        {
         "name": "voice mail plan",
         "rawType": "int32",
         "type": "integer"
        },
        {
         "name": "number vmail messages",
         "rawType": "int64",
         "type": "integer"
        },
        {
         "name": "total day calls",
         "rawType": "int64",
         "type": "integer"
        },
        {
         "name": "total day charge",
         "rawType": "float64",
         "type": "float"
        },
        {
         "name": "total eve calls",
         "rawType": "int64",
         "type": "integer"
        },
        {
         "name": "total eve charge",
         "rawType": "float64",
         "type": "float"
        },
        {
         "name": "total night calls",
         "rawType": "int64",
         "type": "integer"
        },
        {
         "name": "total night charge",
         "rawType": "float64",
         "type": "float"
        },
        {
         "name": "total intl calls",
         "rawType": "int64",
         "type": "integer"
        },
        {
         "name": "total intl charge",
         "rawType": "float64",
         "type": "float"
        },
        {
         "name": "customer service calls",
         "rawType": "int64",
         "type": "integer"
        },
        {
         "name": "churn",
         "rawType": "bool",
         "type": "boolean"
        },
        {
         "name": "churn_encoded",
         "rawType": "int64",
         "type": "integer"
        }
       ],
       "ref": "4d521427-cf27-4898-8e92-3b565c4ee346",
       "rows": [
        [
         "0",
         "KS",
         "128",
         "415",
         "382-4657",
         "0",
         "1",
         "25",
         "110",
         "45.07",
         "99",
         "16.78",
         "91",
         "11.01",
         "3",
         "2.7",
         "1",
         "False",
         "0"
        ],
        [
         "1",
         "OH",
         "107",
         "415",
         "371-7191",
         "0",
         "1",
         "26",
         "123",
         "27.47",
         "103",
         "16.62",
         "103",
         "11.45",
         "3",
         "3.7",
         "1",
         "False",
         "0"
        ],
        [
         "2",
         "NJ",
         "137",
         "415",
         "358-1921",
         "0",
         "0",
         "0",
         "114",
         "41.38",
         "110",
         "10.3",
         "104",
         "7.32",
         "5",
         "3.29",
         "0",
         "False",
         "0"
        ],
        [
         "3",
         "OH",
         "84",
         "408",
         "375-9999",
         "1",
         "0",
         "0",
         "71",
         "50.9",
         "88",
         "5.26",
         "89",
         "8.86",
         "7",
         "1.78",
         "2",
         "False",
         "0"
        ],
        [
         "4",
         "OK",
         "75",
         "415",
         "330-6626",
         "1",
         "0",
         "0",
         "113",
         "28.34",
         "122",
         "12.61",
         "121",
         "8.41",
         "3",
         "2.73",
         "3",
         "False",
         "0"
        ]
       ],
       "shape": {
        "columns": 18,
        "rows": 5
       }
      },
      "text/html": [
       "<div>\n",
       "<style scoped>\n",
       "    .dataframe tbody tr th:only-of-type {\n",
       "        vertical-align: middle;\n",
       "    }\n",
       "\n",
       "    .dataframe tbody tr th {\n",
       "        vertical-align: top;\n",
       "    }\n",
       "\n",
       "    .dataframe thead th {\n",
       "        text-align: right;\n",
       "    }\n",
       "</style>\n",
       "<table border=\"1\" class=\"dataframe\">\n",
       "  <thead>\n",
       "    <tr style=\"text-align: right;\">\n",
       "      <th></th>\n",
       "      <th>state</th>\n",
       "      <th>account length</th>\n",
       "      <th>area code</th>\n",
       "      <th>phone number</th>\n",
       "      <th>international plan</th>\n",
       "      <th>voice mail plan</th>\n",
       "      <th>number vmail messages</th>\n",
       "      <th>total day calls</th>\n",
       "      <th>total day charge</th>\n",
       "      <th>total eve calls</th>\n",
       "      <th>total eve charge</th>\n",
       "      <th>total night calls</th>\n",
       "      <th>total night charge</th>\n",
       "      <th>total intl calls</th>\n",
       "      <th>total intl charge</th>\n",
       "      <th>customer service calls</th>\n",
       "      <th>churn</th>\n",
       "      <th>churn_encoded</th>\n",
       "    </tr>\n",
       "  </thead>\n",
       "  <tbody>\n",
       "    <tr>\n",
       "      <th>0</th>\n",
       "      <td>KS</td>\n",
       "      <td>128</td>\n",
       "      <td>415</td>\n",
       "      <td>382-4657</td>\n",
       "      <td>0</td>\n",
       "      <td>1</td>\n",
       "      <td>25</td>\n",
       "      <td>110</td>\n",
       "      <td>45.07</td>\n",
       "      <td>99</td>\n",
       "      <td>16.78</td>\n",
       "      <td>91</td>\n",
       "      <td>11.01</td>\n",
       "      <td>3</td>\n",
       "      <td>2.70</td>\n",
       "      <td>1</td>\n",
       "      <td>False</td>\n",
       "      <td>0</td>\n",
       "    </tr>\n",
       "    <tr>\n",
       "      <th>1</th>\n",
       "      <td>OH</td>\n",
       "      <td>107</td>\n",
       "      <td>415</td>\n",
       "      <td>371-7191</td>\n",
       "      <td>0</td>\n",
       "      <td>1</td>\n",
       "      <td>26</td>\n",
       "      <td>123</td>\n",
       "      <td>27.47</td>\n",
       "      <td>103</td>\n",
       "      <td>16.62</td>\n",
       "      <td>103</td>\n",
       "      <td>11.45</td>\n",
       "      <td>3</td>\n",
       "      <td>3.70</td>\n",
       "      <td>1</td>\n",
       "      <td>False</td>\n",
       "      <td>0</td>\n",
       "    </tr>\n",
       "    <tr>\n",
       "      <th>2</th>\n",
       "      <td>NJ</td>\n",
       "      <td>137</td>\n",
       "      <td>415</td>\n",
       "      <td>358-1921</td>\n",
       "      <td>0</td>\n",
       "      <td>0</td>\n",
       "      <td>0</td>\n",
       "      <td>114</td>\n",
       "      <td>41.38</td>\n",
       "      <td>110</td>\n",
       "      <td>10.30</td>\n",
       "      <td>104</td>\n",
       "      <td>7.32</td>\n",
       "      <td>5</td>\n",
       "      <td>3.29</td>\n",
       "      <td>0</td>\n",
       "      <td>False</td>\n",
       "      <td>0</td>\n",
       "    </tr>\n",
       "    <tr>\n",
       "      <th>3</th>\n",
       "      <td>OH</td>\n",
       "      <td>84</td>\n",
       "      <td>408</td>\n",
       "      <td>375-9999</td>\n",
       "      <td>1</td>\n",
       "      <td>0</td>\n",
       "      <td>0</td>\n",
       "      <td>71</td>\n",
       "      <td>50.90</td>\n",
       "      <td>88</td>\n",
       "      <td>5.26</td>\n",
       "      <td>89</td>\n",
       "      <td>8.86</td>\n",
       "      <td>7</td>\n",
       "      <td>1.78</td>\n",
       "      <td>2</td>\n",
       "      <td>False</td>\n",
       "      <td>0</td>\n",
       "    </tr>\n",
       "    <tr>\n",
       "      <th>4</th>\n",
       "      <td>OK</td>\n",
       "      <td>75</td>\n",
       "      <td>415</td>\n",
       "      <td>330-6626</td>\n",
       "      <td>1</td>\n",
       "      <td>0</td>\n",
       "      <td>0</td>\n",
       "      <td>113</td>\n",
       "      <td>28.34</td>\n",
       "      <td>122</td>\n",
       "      <td>12.61</td>\n",
       "      <td>121</td>\n",
       "      <td>8.41</td>\n",
       "      <td>3</td>\n",
       "      <td>2.73</td>\n",
       "      <td>3</td>\n",
       "      <td>False</td>\n",
       "      <td>0</td>\n",
       "    </tr>\n",
       "  </tbody>\n",
       "</table>\n",
       "</div>"
      ],
      "text/plain": [
       "  state  account length  area code phone number  international plan  \\\n",
       "0    KS             128        415     382-4657                   0   \n",
       "1    OH             107        415     371-7191                   0   \n",
       "2    NJ             137        415     358-1921                   0   \n",
       "3    OH              84        408     375-9999                   1   \n",
       "4    OK              75        415     330-6626                   1   \n",
       "\n",
       "   voice mail plan  number vmail messages  total day calls  total day charge  \\\n",
       "0                1                     25              110             45.07   \n",
       "1                1                     26              123             27.47   \n",
       "2                0                      0              114             41.38   \n",
       "3                0                      0               71             50.90   \n",
       "4                0                      0              113             28.34   \n",
       "\n",
       "   total eve calls  total eve charge  total night calls  total night charge  \\\n",
       "0               99             16.78                 91               11.01   \n",
       "1              103             16.62                103               11.45   \n",
       "2              110             10.30                104                7.32   \n",
       "3               88              5.26                 89                8.86   \n",
       "4              122             12.61                121                8.41   \n",
       "\n",
       "   total intl calls  total intl charge  customer service calls  churn  \\\n",
       "0                 3               2.70                       1  False   \n",
       "1                 3               3.70                       1  False   \n",
       "2                 5               3.29                       0  False   \n",
       "3                 7               1.78                       2  False   \n",
       "4                 3               2.73                       3  False   \n",
       "\n",
       "   churn_encoded  \n",
       "0              0  \n",
       "1              0  \n",
       "2              0  \n",
       "3              0  \n",
       "4              0  "
      ]
     },
     "execution_count": 21,
     "metadata": {},
     "output_type": "execute_result"
    }
   ],
   "source": [
    "#checking if encoding worked\n",
    "customer_df.head()"
   ]
  },
  {
   "cell_type": "markdown",
   "metadata": {},
   "source": [
    "### Train test split"
   ]
  },
  {
   "cell_type": "code",
   "execution_count": 22,
   "metadata": {},
   "outputs": [],
   "source": [
    "# selecting predictors and target variable\n",
    "X = customer_df.drop(columns=['churn','churn_encoded','phone number','state'])\n",
    "y = customer_df['churn_encoded']\n",
    "# splitting the dataset into training and testing sets\n",
    "X_train, X_test, y_train, y_test = train_test_split(X,y, test_size=0.3,random_state=42)\n",
    "# scaling numerical features\n",
    "scaler = StandardScaler()\n",
    "X_train[numerical_cols] = scaler.fit_transform(X_train[numerical_cols])\n",
    "X_test[numerical_cols] = scaler.fit_transform(X_test[numerical_cols])\n"
   ]
  },
  {
   "cell_type": "markdown",
   "metadata": {},
   "source": [
    "### SMOTE\n",
    "SMOTE is used to handle class imbalance problems by oversampling the minority class with replacement. Our target variable had a class imbalance and we'll use SMOTE to handle it."
   ]
  },
  {
   "cell_type": "code",
   "execution_count": 23,
   "metadata": {},
   "outputs": [
    {
     "name": "stdout",
     "output_type": "stream",
     "text": [
      "churn_encoded\n",
      "0    1993\n",
      "1    1993\n",
      "Name: count, dtype: int64\n"
     ]
    }
   ],
   "source": [
    "smote = SMOTE(random_state=42)\n",
    "X_train_balanced, y_train_balanced = smote.fit_resample(X_train,y_train)\n",
    "print(pd.Series(y_train_balanced).value_counts())\n"
   ]
  },
  {
   "cell_type": "code",
   "execution_count": 24,
   "metadata": {},
   "outputs": [
    {
     "data": {
      "application/vnd.microsoft.datawrangler.viewer.v0+json": {
       "columns": [
        {
         "name": "churn_encoded",
         "rawType": "int64",
         "type": "integer"
        },
        {
         "name": "count",
         "rawType": "int64",
         "type": "integer"
        }
       ],
       "ref": "b68e6306-ee1d-41fa-984a-6b1b9789e185",
       "rows": [
        [
         "0",
         "857"
        ],
        [
         "1",
         "143"
        ]
       ],
       "shape": {
        "columns": 1,
        "rows": 2
       }
      },
      "text/plain": [
       "churn_encoded\n",
       "0    857\n",
       "1    143\n",
       "Name: count, dtype: int64"
      ]
     },
     "execution_count": 24,
     "metadata": {},
     "output_type": "execute_result"
    }
   ],
   "source": [
    "y_test.value_counts()"
   ]
  },
  {
   "cell_type": "markdown",
   "metadata": {},
   "source": [
    "### Visualizing the target variable"
   ]
  },
  {
   "cell_type": "code",
   "execution_count": 25,
   "metadata": {},
   "outputs": [
    {
     "data": {
      "image/png": "[encoded data removed]",
      "text/plain": [
       "<Figure size 640x480 with 1 Axes>"
      ]
     },
     "metadata": {},
     "output_type": "display_data"
    }
   ],
   "source": [
    "#visualizing churn distribution after smote\n",
    "sns.countplot(x=y_train_balanced, palette='Set2')\n",
    "plt.title('Churn Distribution after SMOTE')\n",
    "plt.show()"
   ]
  },
  {
   "cell_type": "markdown",
   "metadata": {},
   "source": [
    "The distribution of the churn classes is now balanced. SMOTE was applied on the training sets only. This ensured that an accurate gauge can be made on the model's performance by using a raw test sample that has not been oversampled or undersampled."
   ]
  },
  {
   "cell_type": "markdown",
   "metadata": {},
   "source": [
    "## Modelling"
   ]
  },
  {
   "cell_type": "markdown",
   "metadata": {},
   "source": [
    "### Logistic Regression"
   ]
  },
  {
   "cell_type": "markdown",
   "metadata": {},
   "source": [
    "Logistic regression model will be used as the baseline model."
   ]
  },
  {
   "cell_type": "code",
   "execution_count": 26,
   "metadata": {},
   "outputs": [
    {
     "data": {
      "text/html": [
       "<style>#sk-container-id-1 {\n",
       "  /* Definition of color scheme common for light and dark mode */\n",
       "  --sklearn-color-text: black;\n",
       "  --sklearn-color-line: gray;\n",
       "  /* Definition of color scheme for unfitted estimators */\n",
       "  --sklearn-color-unfitted-level-0: #fff5e6;\n",
       "  --sklearn-color-unfitted-level-1: #f6e4d2;\n",
       "  --sklearn-color-unfitted-level-2: #ffe0b3;\n",
       "  --sklearn-color-unfitted-level-3: chocolate;\n",
       "  /* Definition of color scheme for fitted estimators */\n",
       "  --sklearn-color-fitted-level-0: #f0f8ff;\n",
       "  --sklearn-color-fitted-level-1: #d4ebff;\n",
       "  --sklearn-color-fitted-level-2: #b3dbfd;\n",
       "  --sklearn-color-fitted-level-3: cornflowerblue;\n",
       "\n",
       "  /* Specific color for light theme */\n",
       "  --sklearn-color-text-on-default-background: var(--sg-text-color, var(--theme-code-foreground, var(--jp-content-font-color1, black)));\n",
       "  --sklearn-color-background: var(--sg-background-color, var(--theme-background, var(--jp-layout-color0, white)));\n",
       "  --sklearn-color-border-box: var(--sg-text-color, var(--theme-code-foreground, var(--jp-content-font-color1, black)));\n",
       "  --sklearn-color-icon: #696969;\n",
       "\n",
       "  @media (prefers-color-scheme: dark) {\n",
       "    /* Redefinition of color scheme for dark theme */\n",
       "    --sklearn-color-text-on-default-background: var(--sg-text-color, var(--theme-code-foreground, var(--jp-content-font-color1, white)));\n",
       "    --sklearn-color-background: var(--sg-background-color, var(--theme-background, var(--jp-layout-color0, #111)));\n",
       "    --sklearn-color-border-box: var(--sg-text-color, var(--theme-code-foreground, var(--jp-content-font-color1, white)));\n",
       "    --sklearn-color-icon: #878787;\n",
       "  }\n",
       "}\n",
       "\n",
       "#sk-container-id-1 {\n",
       "  color: var(--sklearn-color-text);\n",
       "}\n",
       "\n",
       "#sk-container-id-1 pre {\n",
       "  padding: 0;\n",
       "}\n",
       "\n",
       "#sk-container-id-1 input.sk-hidden--visually {\n",
       "  border: 0;\n",
       "  clip: rect(1px 1px 1px 1px);\n",
       "  clip: rect(1px, 1px, 1px, 1px);\n",
       "  height: 1px;\n",
       "  margin: -1px;\n",
       "  overflow: hidden;\n",
       "  padding: 0;\n",
       "  position: absolute;\n",
       "  width: 1px;\n",
       "}\n",
       "\n",
       "#sk-container-id-1 div.sk-dashed-wrapped {\n",
       "  border: 1px dashed var(--sklearn-color-line);\n",
       "  margin: 0 0.4em 0.5em 0.4em;\n",
       "  box-sizing: border-box;\n",
       "  padding-bottom: 0.4em;\n",
       "  background-color: var(--sklearn-color-background);\n",
       "}\n",
       "\n",
       "#sk-container-id-1 div.sk-container {\n",
       "  /* jupyter's `normalize.less` sets `[hidden] { display: none; }`\n",
       "     but bootstrap.min.css set `[hidden] { display: none !important; }`\n",
       "     so we also need the `!important` here to be able to override the\n",
       "     default hidden behavior on the sphinx rendered scikit-learn.org.\n",
       "     See: https://github.com/scikit-learn/scikit-learn/issues/21755 */\n",
       "  display: inline-block !important;\n",
       "  position: relative;\n",
       "}\n",
       "\n",
       "#sk-container-id-1 div.sk-text-repr-fallback {\n",
       "  display: none;\n",
       "}\n",
       "\n",
       "div.sk-parallel-item,\n",
       "div.sk-serial,\n",
       "div.sk-item {\n",
       "  /* draw centered vertical line to link estimators */\n",
       "  background-image: linear-gradient(var(--sklearn-color-text-on-default-background), var(--sklearn-color-text-on-default-background));\n",
       "  background-size: 2px 100%;\n",
       "  background-repeat: no-repeat;\n",
       "  background-position: center center;\n",
       "}\n",
       "\n",
       "/* Parallel-specific style estimator block */\n",
       "\n",
       "#sk-container-id-1 div.sk-parallel-item::after {\n",
       "  content: \"\";\n",
       "  width: 100%;\n",
       "  border-bottom: 2px solid var(--sklearn-color-text-on-default-background);\n",
       "  flex-grow: 1;\n",
       "}\n",
       "\n",
       "#sk-container-id-1 div.sk-parallel {\n",
       "  display: flex;\n",
       "  align-items: stretch;\n",
       "  justify-content: center;\n",
       "  background-color: var(--sklearn-color-background);\n",
       "  position: relative;\n",
       "}\n",
       "\n",
       "#sk-container-id-1 div.sk-parallel-item {\n",
       "  display: flex;\n",
       "  flex-direction: column;\n",
       "}\n",
       "\n",
       "#sk-container-id-1 div.sk-parallel-item:first-child::after {\n",
       "  align-self: flex-end;\n",
       "  width: 50%;\n",
       "}\n",
       "\n",
       "#sk-container-id-1 div.sk-parallel-item:last-child::after {\n",
       "  align-self: flex-start;\n",
       "  width: 50%;\n",
       "}\n",
       "\n",
       "#sk-container-id-1 div.sk-parallel-item:only-child::after {\n",
       "  width: 0;\n",
       "}\n",
       "\n",
       "/* Serial-specific style estimator block */\n",
       "\n",
       "#sk-container-id-1 div.sk-serial {\n",
       "  display: flex;\n",
       "  flex-direction: column;\n",
       "  align-items: center;\n",
       "  background-color: var(--sklearn-color-background);\n",
       "  padding-right: 1em;\n",
       "  padding-left: 1em;\n",
       "}\n",
       "\n",
       "\n",
       "/* Toggleable style: style used for estimator/Pipeline/ColumnTransformer box that is\n",
       "clickable and can be expanded/collapsed.\n",
       "- Pipeline and ColumnTransformer use this feature and define the default style\n",
       "- Estimators will overwrite some part of the style using the `sk-estimator` class\n",
       "*/\n",
       "\n",
       "/* Pipeline and ColumnTransformer style (default) */\n",
       "\n",
       "#sk-container-id-1 div.sk-toggleable {\n",
       "  /* Default theme specific background. It is overwritten whether we have a\n",
       "  specific estimator or a Pipeline/ColumnTransformer */\n",
       "  background-color: var(--sklearn-color-background);\n",
       "}\n",
       "\n",
       "/* Toggleable label */\n",
       "#sk-container-id-1 label.sk-toggleable__label {\n",
       "  cursor: pointer;\n",
       "  display: block;\n",
       "  width: 100%;\n",
       "  margin-bottom: 0;\n",
       "  padding: 0.5em;\n",
       "  box-sizing: border-box;\n",
       "  text-align: center;\n",
       "}\n",
       "\n",
       "#sk-container-id-1 label.sk-toggleable__label-arrow:before {\n",
       "  /* Arrow on the left of the label */\n",
       "  content: \"▸\";\n",
       "  float: left;\n",
       "  margin-right: 0.25em;\n",
       "  color: var(--sklearn-color-icon);\n",
       "}\n",
       "\n",
       "#sk-container-id-1 label.sk-toggleable__label-arrow:hover:before {\n",
       "  color: var(--sklearn-color-text);\n",
       "}\n",
       "\n",
       "/* Toggleable content - dropdown */\n",
       "\n",
       "#sk-container-id-1 div.sk-toggleable__content {\n",
       "  max-height: 0;\n",
       "  max-width: 0;\n",
       "  overflow: hidden;\n",
       "  text-align: left;\n",
       "  /* unfitted */\n",
       "  background-color: var(--sklearn-color-unfitted-level-0);\n",
       "}\n",
       "\n",
       "#sk-container-id-1 div.sk-toggleable__content.fitted {\n",
       "  /* fitted */\n",
       "  background-color: var(--sklearn-color-fitted-level-0);\n",
       "}\n",
       "\n",
       "#sk-container-id-1 div.sk-toggleable__content pre {\n",
       "  margin: 0.2em;\n",
       "  border-radius: 0.25em;\n",
       "  color: var(--sklearn-color-text);\n",
       "  /* unfitted */\n",
       "  background-color: var(--sklearn-color-unfitted-level-0);\n",
       "}\n",
       "\n",
       "#sk-container-id-1 div.sk-toggleable__content.fitted pre {\n",
       "  /* unfitted */\n",
       "  background-color: var(--sklearn-color-fitted-level-0);\n",
       "}\n",
       "\n",
       "#sk-container-id-1 input.sk-toggleable__control:checked~div.sk-toggleable__content {\n",
       "  /* Expand drop-down */\n",
       "  max-height: 200px;\n",
       "  max-width: 100%;\n",
       "  overflow: auto;\n",
       "}\n",
       "\n",
       "#sk-container-id-1 input.sk-toggleable__control:checked~label.sk-toggleable__label-arrow:before {\n",
       "  content: \"▾\";\n",
       "}\n",
       "\n",
       "/* Pipeline/ColumnTransformer-specific style */\n",
       "\n",
       "#sk-container-id-1 div.sk-label input.sk-toggleable__control:checked~label.sk-toggleable__label {\n",
       "  color: var(--sklearn-color-text);\n",
       "  background-color: var(--sklearn-color-unfitted-level-2);\n",
       "}\n",
       "\n",
       "#sk-container-id-1 div.sk-label.fitted input.sk-toggleable__control:checked~label.sk-toggleable__label {\n",
       "  background-color: var(--sklearn-color-fitted-level-2);\n",
       "}\n",
       "\n",
       "/* Estimator-specific style */\n",
       "\n",
       "/* Colorize estimator box */\n",
       "#sk-container-id-1 div.sk-estimator input.sk-toggleable__control:checked~label.sk-toggleable__label {\n",
       "  /* unfitted */\n",
       "  background-color: var(--sklearn-color-unfitted-level-2);\n",
       "}\n",
       "\n",
       "#sk-container-id-1 div.sk-estimator.fitted input.sk-toggleable__control:checked~label.sk-toggleable__label {\n",
       "  /* fitted */\n",
       "  background-color: var(--sklearn-color-fitted-level-2);\n",
       "}\n",
       "\n",
       "#sk-container-id-1 div.sk-label label.sk-toggleable__label,\n",
       "#sk-container-id-1 div.sk-label label {\n",
       "  /* The background is the default theme color */\n",
       "  color: var(--sklearn-color-text-on-default-background);\n",
       "}\n",
       "\n",
       "/* On hover, darken the color of the background */\n",
       "#sk-container-id-1 div.sk-label:hover label.sk-toggleable__label {\n",
       "  color: var(--sklearn-color-text);\n",
       "  background-color: var(--sklearn-color-unfitted-level-2);\n",
       "}\n",
       "\n",
       "/* Label box, darken color on hover, fitted */\n",
       "#sk-container-id-1 div.sk-label.fitted:hover label.sk-toggleable__label.fitted {\n",
       "  color: var(--sklearn-color-text);\n",
       "  background-color: var(--sklearn-color-fitted-level-2);\n",
       "}\n",
       "\n",
       "/* Estimator label */\n",
       "\n",
       "#sk-container-id-1 div.sk-label label {\n",
       "  font-family: monospace;\n",
       "  font-weight: bold;\n",
       "  display: inline-block;\n",
       "  line-height: 1.2em;\n",
       "}\n",
       "\n",
       "#sk-container-id-1 div.sk-label-container {\n",
       "  text-align: center;\n",
       "}\n",
       "\n",
       "/* Estimator-specific */\n",
       "#sk-container-id-1 div.sk-estimator {\n",
       "  font-family: monospace;\n",
       "  border: 1px dotted var(--sklearn-color-border-box);\n",
       "  border-radius: 0.25em;\n",
       "  box-sizing: border-box;\n",
       "  margin-bottom: 0.5em;\n",
       "  /* unfitted */\n",
       "  background-color: var(--sklearn-color-unfitted-level-0);\n",
       "}\n",
       "\n",
       "#sk-container-id-1 div.sk-estimator.fitted {\n",
       "  /* fitted */\n",
       "  background-color: var(--sklearn-color-fitted-level-0);\n",
       "}\n",
       "\n",
       "/* on hover */\n",
       "#sk-container-id-1 div.sk-estimator:hover {\n",
       "  /* unfitted */\n",
       "  background-color: var(--sklearn-color-unfitted-level-2);\n",
       "}\n",
       "\n",
       "#sk-container-id-1 div.sk-estimator.fitted:hover {\n",
       "  /* fitted */\n",
       "  background-color: var(--sklearn-color-fitted-level-2);\n",
       "}\n",
       "\n",
       "/* Specification for estimator info (e.g. \"i\" and \"?\") */\n",
       "\n",
       "/* Common style for \"i\" and \"?\" */\n",
       "\n",
       ".sk-estimator-doc-link,\n",
       "a:link.sk-estimator-doc-link,\n",
       "a:visited.sk-estimator-doc-link {\n",
       "  float: right;\n",
       "  font-size: smaller;\n",
       "  line-height: 1em;\n",
       "  font-family: monospace;\n",
       "  background-color: var(--sklearn-color-background);\n",
       "  border-radius: 1em;\n",
       "  height: 1em;\n",
       "  width: 1em;\n",
       "  text-decoration: none !important;\n",
       "  margin-left: 1ex;\n",
       "  /* unfitted */\n",
       "  border: var(--sklearn-color-unfitted-level-1) 1pt solid;\n",
       "  color: var(--sklearn-color-unfitted-level-1);\n",
       "}\n",
       "\n",
       ".sk-estimator-doc-link.fitted,\n",
       "a:link.sk-estimator-doc-link.fitted,\n",
       "a:visited.sk-estimator-doc-link.fitted {\n",
       "  /* fitted */\n",
       "  border: var(--sklearn-color-fitted-level-1) 1pt solid;\n",
       "  color: var(--sklearn-color-fitted-level-1);\n",
       "}\n",
       "\n",
       "/* On hover */\n",
       "div.sk-estimator:hover .sk-estimator-doc-link:hover,\n",
       ".sk-estimator-doc-link:hover,\n",
       "div.sk-label-container:hover .sk-estimator-doc-link:hover,\n",
       ".sk-estimator-doc-link:hover {\n",
       "  /* unfitted */\n",
       "  background-color: var(--sklearn-color-unfitted-level-3);\n",
       "  color: var(--sklearn-color-background);\n",
       "  text-decoration: none;\n",
       "}\n",
       "\n",
       "div.sk-estimator.fitted:hover .sk-estimator-doc-link.fitted:hover,\n",
       ".sk-estimator-doc-link.fitted:hover,\n",
       "div.sk-label-container:hover .sk-estimator-doc-link.fitted:hover,\n",
       ".sk-estimator-doc-link.fitted:hover {\n",
       "  /* fitted */\n",
       "  background-color: var(--sklearn-color-fitted-level-3);\n",
       "  color: var(--sklearn-color-background);\n",
       "  text-decoration: none;\n",
       "}\n",
       "\n",
       "/* Span, style for the box shown on hovering the info icon */\n",
       ".sk-estimator-doc-link span {\n",
       "  display: none;\n",
       "  z-index: 9999;\n",
       "  position: relative;\n",
       "  font-weight: normal;\n",
       "  right: .2ex;\n",
       "  padding: .5ex;\n",
       "  margin: .5ex;\n",
       "  width: min-content;\n",
       "  min-width: 20ex;\n",
       "  max-width: 50ex;\n",
       "  color: var(--sklearn-color-text);\n",
       "  box-shadow: 2pt 2pt 4pt #999;\n",
       "  /* unfitted */\n",
       "  background: var(--sklearn-color-unfitted-level-0);\n",
       "  border: .5pt solid var(--sklearn-color-unfitted-level-3);\n",
       "}\n",
       "\n",
       ".sk-estimator-doc-link.fitted span {\n",
       "  /* fitted */\n",
       "  background: var(--sklearn-color-fitted-level-0);\n",
       "  border: var(--sklearn-color-fitted-level-3);\n",
       "}\n",
       "\n",
       ".sk-estimator-doc-link:hover span {\n",
       "  display: block;\n",
       "}\n",
       "\n",
       "/* \"?\"-specific style due to the `<a>` HTML tag */\n",
       "\n",
       "#sk-container-id-1 a.estimator_doc_link {\n",
       "  float: right;\n",
       "  font-size: 1rem;\n",
       "  line-height: 1em;\n",
       "  font-family: monospace;\n",
       "  background-color: var(--sklearn-color-background);\n",
       "  border-radius: 1rem;\n",
       "  height: 1rem;\n",
       "  width: 1rem;\n",
       "  text-decoration: none;\n",
       "  /* unfitted */\n",
       "  color: var(--sklearn-color-unfitted-level-1);\n",
       "  border: var(--sklearn-color-unfitted-level-1) 1pt solid;\n",
       "}\n",
       "\n",
       "#sk-container-id-1 a.estimator_doc_link.fitted {\n",
       "  /* fitted */\n",
       "  border: var(--sklearn-color-fitted-level-1) 1pt solid;\n",
       "  color: var(--sklearn-color-fitted-level-1);\n",
       "}\n",
       "\n",
       "/* On hover */\n",
       "#sk-container-id-1 a.estimator_doc_link:hover {\n",
       "  /* unfitted */\n",
       "  background-color: var(--sklearn-color-unfitted-level-3);\n",
       "  color: var(--sklearn-color-background);\n",
       "  text-decoration: none;\n",
       "}\n",
       "\n",
       "#sk-container-id-1 a.estimator_doc_link.fitted:hover {\n",
       "  /* fitted */\n",
       "  background-color: var(--sklearn-color-fitted-level-3);\n",
       "}\n",
       "</style><div id=\"sk-container-id-1\" class=\"sk-top-container\"><div class=\"sk-text-repr-fallback\"><pre>LogisticRegression(random_state=42)</pre><b>In a Jupyter environment, please rerun this cell to show the HTML representation or trust the notebook. <br />On GitHub, the HTML representation is unable to render, please try loading this page with nbviewer.org.</b></div><div class=\"sk-container\" hidden><div class=\"sk-item\"><div class=\"sk-estimator fitted sk-toggleable\"><input class=\"sk-toggleable__control sk-hidden--visually\" id=\"sk-estimator-id-1\" type=\"checkbox\" checked><label for=\"sk-estimator-id-1\" class=\"sk-toggleable__label fitted sk-toggleable__label-arrow fitted\">&nbsp;&nbsp;LogisticRegression<a class=\"sk-estimator-doc-link fitted\" rel=\"noreferrer\" target=\"_blank\" href=\"https://scikit-learn.org/1.5/modules/generated/sklearn.linear_model.LogisticRegression.html\">?<span>Documentation for LogisticRegression</span></a><span class=\"sk-estimator-doc-link fitted\">i<span>Fitted</span></span></label><div class=\"sk-toggleable__content fitted\"><pre>LogisticRegression(random_state=42)</pre></div> </div></div></div></div>"
      ],
      "text/plain": [
       "LogisticRegression(random_state=42)"
      ]
     },
     "execution_count": 26,
     "metadata": {},
     "output_type": "execute_result"
    }
   ],
   "source": [
    "model = LogisticRegression(random_state=42)\n",
    "model.fit(X_train_balanced, y_train_balanced)"
   ]
  },
  {
   "cell_type": "code",
   "execution_count": 27,
   "metadata": {},
   "outputs": [
    {
     "data": {
      "application/vnd.microsoft.datawrangler.viewer.v0+json": {
       "columns": [
        {
         "name": "index",
         "rawType": "object",
         "type": "string"
        },
        {
         "name": "0",
         "rawType": "float64",
         "type": "float"
        }
       ],
       "ref": "7a72d0d9-b457-4a2b-8fba-bd3f6c6eaeb0",
       "rows": [
        [
         "account length",
         "0.0012850048258486835"
        ],
        [
         "area code",
         "-0.0005361915453963596"
        ],
        [
         "international plan",
         "1.1758704112654845"
        ],
        [
         "voice mail plan",
         "-0.31897436868169693"
        ],
        [
         "number vmail messages",
         "-0.012424293000769073"
        ],
        [
         "total day calls",
         "0.036600210859655"
        ],
        [
         "total day charge",
         "0.6717907857189526"
        ],
        [
         "total eve calls",
         "0.052348179047088446"
        ],
        [
         "total eve charge",
         "0.3704073094181222"
        ],
        [
         "total night calls",
         "-0.01944875348337303"
        ],
        [
         "total night charge",
         "0.10102420310226042"
        ],
        [
         "total intl calls",
         "-0.25276678805054326"
        ],
        [
         "total intl charge",
         "0.4008390048133757"
        ],
        [
         "customer service calls",
         "0.7368943752589493"
        ]
       ],
       "shape": {
        "columns": 1,
        "rows": 14
       }
      },
      "text/plain": [
       "account length            0.001285\n",
       "area code                -0.000536\n",
       "international plan        1.175870\n",
       "voice mail plan          -0.318974\n",
       "number vmail messages    -0.012424\n",
       "total day calls           0.036600\n",
       "total day charge          0.671791\n",
       "total eve calls           0.052348\n",
       "total eve charge          0.370407\n",
       "total night calls        -0.019449\n",
       "total night charge        0.101024\n",
       "total intl calls         -0.252767\n",
       "total intl charge         0.400839\n",
       "customer service calls    0.736894\n",
       "dtype: float64"
      ]
     },
     "execution_count": 27,
     "metadata": {},
     "output_type": "execute_result"
    }
   ],
   "source": [
    "coef = pd.Series(model.coef_[0], index=X_train.columns)\n",
    "coef"
   ]
  },
  {
   "cell_type": "markdown",
   "metadata": {},
   "source": [
    "Based on our analysis, We can conclude that international plan,customer service calls and daytime usage are the most drivers to churn. For retention of clients,based on the analysis,customers with voicemail plans are more likely to stay followed by those making international calls. The other predictors has negligible impact to churn."
   ]
  },
  {
   "cell_type": "code",
   "execution_count": 28,
   "metadata": {},
   "outputs": [
    {
     "name": "stdout",
     "output_type": "stream",
     "text": [
      " Test Accuracy: 0.71\n",
      "Train Accuracy: 0.72\n",
      "\n",
      "Confusion Matrix:\n"
     ]
    },
    {
     "data": {
      "image/png": "[encoded data removed]",
      "text/plain": [
       "<Figure size 640x480 with 2 Axes>"
      ]
     },
     "metadata": {},
     "output_type": "display_data"
    },
    {
     "name": "stdout",
     "output_type": "stream",
     "text": [
      "\n",
      " Test Classification Report:\n",
      "              precision    recall  f1-score   support\n",
      "\n",
      "           0       0.96      0.70      0.81       857\n",
      "           1       0.31      0.82      0.45       143\n",
      "\n",
      "    accuracy                           0.71      1000\n",
      "   macro avg       0.63      0.76      0.63      1000\n",
      "weighted avg       0.87      0.71      0.75      1000\n",
      "\n",
      "\n",
      " Train Classification Report:\n",
      "              precision    recall  f1-score   support\n",
      "\n",
      "           0       0.94      0.71      0.81      1993\n",
      "           1       0.31      0.76      0.44       340\n",
      "\n",
      "    accuracy                           0.72      2333\n",
      "   macro avg       0.63      0.73      0.63      2333\n",
      "weighted avg       0.85      0.72      0.76      2333\n",
      "\n"
     ]
    }
   ],
   "source": [
    "y_test_pred = model.predict(X_test)\n",
    "y_train_pred = model.predict(X_train)\n",
    "test_acc = accuracy_score(y_test, y_test_pred)\n",
    "train_acc = accuracy_score(y_train,y_train_pred)\n",
    "print(f' Test Accuracy: {test_acc:.2f}')\n",
    "print(f'Train Accuracy: {train_acc:.2f}')\n",
    "print('\\nConfusion Matrix:')\n",
    "ConfusionMatrixDisplay.from_estimator(model, X_test, y_test)\n",
    "plt.show()\n",
    "\n",
    "print('\\n Test Classification Report:')\n",
    "print(classification_report(y_test, y_test_pred))\n",
    "print('\\n Train Classification Report:')\n",
    "print(classification_report(y_train,y_train_pred))"
   ]
  },
  {
   "cell_type": "code",
   "execution_count": 29,
   "metadata": {},
   "outputs": [
    {
     "data": {
      "image/png": "[encoded data removed]",
      "text/plain": [
       "<Figure size 1000x600 with 1 Axes>"
      ]
     },
     "metadata": {},
     "output_type": "display_data"
    }
   ],
   "source": [
    "# Visualizing feature importances\n",
    "importance = model.coef_[0]\n",
    "feature_names = X_train_balanced.columns\n",
    "feature_importances = pd.Series(importance,index=feature_names)\n",
    "feature_importances = feature_importances.sort_values(ascending=False)\n",
    "plt.figure(figsize=(10, 6))\n",
    "top_features = feature_importances[:10]  # Selects the top 10 features\n",
    "top_features.sort_values().plot(kind='barh')\n",
    "plt.xlabel('Importance')\n",
    "plt.ylabel('Features')\n",
    "plt.title('Top 10 Feature Importances')\n",
    "plt.xlim(0, max(top_features)* 1.1)  # Setting the xlim to the maximum importance value\n",
    "plt.show()"
   ]
  },
  {
   "cell_type": "markdown",
   "metadata": {},
   "source": [
    "### Model performance Evaluation\n",
    " - Our model performance indicates no overfitting,having a 72% accuracy on training data and 71% accuracy in testing data.  "
   ]
  },
  {
   "cell_type": "markdown",
   "metadata": {},
   "source": [
    "### Classification report insights\n",
    "  - It give a high recall percentage of 76% indicating that it was able to predict 76% of churn cases accurately but has many false positives.\n",
    "  - Has a high precision percentage of 94% and was able to predicting 94% of customers won't churn."
   ]
  },
  {
   "cell_type": "markdown",
   "metadata": {},
   "source": [
    "### Decision Tree"
   ]
  },
  {
   "cell_type": "code",
   "execution_count": 30,
   "metadata": {},
   "outputs": [],
   "source": [
    "#Instantiating DecisionTreeClassifier\n",
    "clf = DecisionTreeClassifier(max_depth=5,min_samples_split=10,min_samples_leaf=5,criterion='entropy', random_state=42)"
   ]
  },
  {
   "cell_type": "code",
   "execution_count": 31,
   "metadata": {},
   "outputs": [],
   "source": [
    "# splitting training and testing data\n",
    "X_train, X_test, y_train, y_test = train_test_split(X_train_balanced,y_train_balanced,test_size=0.3, random_state=42)\n"
   ]
  },
  {
   "cell_type": "code",
   "execution_count": 32,
   "metadata": {},
   "outputs": [],
   "source": [
    "#Fitting on the training data\n",
    "clf.fit(X_train_balanced,y_train_balanced)\n",
    "\n",
    "#predicting on the test set and training set\n",
    "y_pred= clf.predict(X_test)\n",
    "y_train_p = clf.predict(X_train)"
   ]
  },
  {
   "cell_type": "code",
   "execution_count": 33,
   "metadata": {},
   "outputs": [
    {
     "name": "stdout",
     "output_type": "stream",
     "text": [
      "Decision Tree Accuracy:\n",
      "   • Test Accuracy: 85.8%\n",
      "    Train Accuracy: 83.2%\n",
      "   • This means we got 85.8% of predictions right!\n"
     ]
    }
   ],
   "source": [
    "#checking for model accuracy\n",
    "test_accuracy = accuracy_score(y_test, y_pred)\n",
    "train_accuracy = accuracy_score(y_train, y_train_p )\n",
    "print(f\"Decision Tree Accuracy:\")\n",
    "print(f\"   • Test Accuracy: {test_accuracy:.1%}\")\n",
    "print(f\"    Train Accuracy: {train_accuracy:.1%}\")\n",
    "print(f\"   • This means we got {test_accuracy:.1%} of predictions right!\")"
   ]
  },
  {
   "cell_type": "code",
   "execution_count": 34,
   "metadata": {},
   "outputs": [
    {
     "data": {
      "image/png": "[encoded data removed]",
      "text/plain": [
       "<Figure size 640x480 with 2 Axes>"
      ]
     },
     "metadata": {},
     "output_type": "display_data"
    }
   ],
   "source": [
    "#plotting the confusion matrix\n",
    "ConfusionMatrixDisplay.from_estimator(clf, X_test, y_test)\n",
    "plt.show()"
   ]
  },
  {
   "cell_type": "code",
   "execution_count": 35,
   "metadata": {},
   "outputs": [
    {
     "name": "stdout",
     "output_type": "stream",
     "text": [
      "\n",
      " Test Classification Report:\n",
      "              precision    recall  f1-score   support\n",
      "\n",
      "           0       0.82      0.92      0.87       621\n",
      "           1       0.90      0.79      0.84       575\n",
      "\n",
      "    accuracy                           0.86      1196\n",
      "   macro avg       0.86      0.86      0.86      1196\n",
      "weighted avg       0.86      0.86      0.86      1196\n",
      "\n",
      "\n",
      " Train Classification Report:\n",
      "              precision    recall  f1-score   support\n",
      "\n",
      "           0       0.78      0.92      0.84      1372\n",
      "           1       0.90      0.75      0.82      1418\n",
      "\n",
      "    accuracy                           0.83      2790\n",
      "   macro avg       0.84      0.83      0.83      2790\n",
      "weighted avg       0.84      0.83      0.83      2790\n",
      "\n"
     ]
    }
   ],
   "source": [
    "print('\\n Test Classification Report:')\n",
    "print(classification_report(y_test,y_pred))\n",
    "print('\\n Train Classification Report:')\n",
    "print(classification_report(y_train, y_train_p))"
   ]
  },
  {
   "cell_type": "markdown",
   "metadata": {},
   "source": [
    "### Model perfamance analysis\n",
    " - The test accuracy slightly differs from the train accuracy.\n",
    " - There is consistency in **Precision** and **Recall** in both cases.\n",
    " - This model captures most true positives cases but has some false positives."
   ]
  },
  {
   "cell_type": "markdown",
   "metadata": {},
   "source": [
    "## Model Evaluation"
   ]
  },
  {
   "cell_type": "markdown",
   "metadata": {},
   "source": [
    "In this segment,we'll use **ROC-AUC** to evaluate which customers are risky and **Recall score** to evaluate which customers are likely to churn."
   ]
  },
  {
   "cell_type": "code",
   "execution_count": 36,
   "metadata": {},
   "outputs": [
    {
     "data": {
      "image/png": "[encoded data removed]",
      "text/plain": [
       "<Figure size 640x480 with 1 Axes>"
      ]
     },
     "metadata": {},
     "output_type": "display_data"
    },
    {
     "data": {
      "application/vnd.microsoft.datawrangler.viewer.v0+json": {
       "columns": [
        {
         "name": "classifiers",
         "rawType": "object",
         "type": "string"
        },
        {
         "name": "recall",
         "rawType": "float64",
         "type": "float"
        },
        {
         "name": "precision",
         "rawType": "float64",
         "type": "float"
        },
        {
         "name": "f1",
         "rawType": "float64",
         "type": "float"
        },
        {
         "name": "roc_auc",
         "rawType": "float64",
         "type": "float"
        }
       ],
       "ref": "e875a181-cd4a-4280-a20b-da1e38afac57",
       "rows": [
        [
         "LogisticRegression",
         "0.7252173913043478",
         "0.7043918918918919",
         "0.7146529562982005",
         "0.7804970944479451"
        ],
        [
         "DecisionTreeClassifier",
         "0.7878260869565218",
         "0.9041916167664671",
         "0.8420074349442379",
         "0.8951354757403907"
        ]
       ],
       "shape": {
        "columns": 4,
        "rows": 2
       }
      },
      "text/html": [
       "<div>\n",
       "<style scoped>\n",
       "    .dataframe tbody tr th:only-of-type {\n",
       "        vertical-align: middle;\n",
       "    }\n",
       "\n",
       "    .dataframe tbody tr th {\n",
       "        vertical-align: top;\n",
       "    }\n",
       "\n",
       "    .dataframe thead th {\n",
       "        text-align: right;\n",
       "    }\n",
       "</style>\n",
       "<table border=\"1\" class=\"dataframe\">\n",
       "  <thead>\n",
       "    <tr style=\"text-align: right;\">\n",
       "      <th></th>\n",
       "      <th>recall</th>\n",
       "      <th>precision</th>\n",
       "      <th>f1</th>\n",
       "      <th>roc_auc</th>\n",
       "    </tr>\n",
       "    <tr>\n",
       "      <th>classifiers</th>\n",
       "      <th></th>\n",
       "      <th></th>\n",
       "      <th></th>\n",
       "      <th></th>\n",
       "    </tr>\n",
       "  </thead>\n",
       "  <tbody>\n",
       "    <tr>\n",
       "      <th>LogisticRegression</th>\n",
       "      <td>0.725217</td>\n",
       "      <td>0.704392</td>\n",
       "      <td>0.714653</td>\n",
       "      <td>0.780497</td>\n",
       "    </tr>\n",
       "    <tr>\n",
       "      <th>DecisionTreeClassifier</th>\n",
       "      <td>0.787826</td>\n",
       "      <td>0.904192</td>\n",
       "      <td>0.842007</td>\n",
       "      <td>0.895135</td>\n",
       "    </tr>\n",
       "  </tbody>\n",
       "</table>\n",
       "</div>"
      ],
      "text/plain": [
       "                          recall  precision        f1   roc_auc\n",
       "classifiers                                                    \n",
       "LogisticRegression      0.725217   0.704392  0.714653  0.780497\n",
       "DecisionTreeClassifier  0.787826   0.904192  0.842007  0.895135"
      ]
     },
     "execution_count": 36,
     "metadata": {},
     "output_type": "execute_result"
    }
   ],
   "source": [
    "\n",
    "np.random.seed(42)\n",
    "\n",
    "classifiers = [LogisticRegression(),\n",
    "               DecisionTreeClassifier(max_depth=5,min_samples_split=10,min_samples_leaf=5,criterion='entropy',random_state=42)]\n",
    "#collecting results in a list\n",
    "results = []\n",
    "\n",
    "# Training the models and recording the results\n",
    "for cls in classifiers:\n",
    "    model = cls.fit(X_train_balanced, y_train_balanced)\n",
    "    y_pred = model.predict(X_test)\n",
    "    y_pred_proba = model.predict_proba(X_test)[:,1]\n",
    "    \n",
    "    recall = recall_score(y_test, y_pred)\n",
    "    precision = precision_score(y_test, y_pred)\n",
    "    f1 = f1_score(y_test, y_pred)\n",
    "    #calculating the roc_auc score\n",
    "    fpr,tpr,_ = roc_curve(y_test, y_pred_proba)\n",
    "    roc_auc = auc(fpr,tpr)\n",
    "    \n",
    "    results.append({'classifiers': cls.__class__.__name__,\n",
    "                                        'recall': recall,\n",
    "                                        'precision':precision,\n",
    "                                        'f1':f1,\n",
    "                                        'roc_auc':roc_auc})\n",
    "    #initializing the roc-auc curve\n",
    "    plt.plot(fpr,tpr,label=f\"{cls.__class__.__name__}(AUC={roc_auc:2f})\")\n",
    "\n",
    "#creating a result table as a df\n",
    "result_table = pd.DataFrame(results)\n",
    "# Setting name of the classifiers as index labels\n",
    "result_table.set_index('classifiers', inplace=True)\n",
    "\n",
    "\n",
    "#plotting the roc-auc curve\n",
    "plt.plot([0,1],[0,1],color='green',linestyle='--')\n",
    "plt.xlabel('False Positive Rate')\n",
    "plt.ylabel('True Positive Rate')\n",
    "plt.title('ROC-AUC Curve for Logistic Regression and Decision Tree Classifiers')\n",
    "plt.legend(loc='lower right')\n",
    "plt.show()\n",
    "# Displaying the results table\n",
    "result_table"
   ]
  },
  {
   "cell_type": "markdown",
   "metadata": {},
   "source": [
    "## Models Tuning\n",
    "Tuning is critical to optimize model performance and avoid issues like underfitting and overfitting.\n"
   ]
  },
  {
   "cell_type": "code",
   "execution_count": 39,
   "metadata": {},
   "outputs": [
    {
     "data": {
      "image/png": "[encoded data removed]",
      "text/plain": [
       "<Figure size 1000x600 with 1 Axes>"
      ]
     },
     "metadata": {},
     "output_type": "display_data"
    }
   ],
   "source": [
    "# Defining parameters grids for logistic regression model\n",
    "param_grid_logistic = {\n",
    "    'C': [0.01, 0.1, 1, 10],\n",
    "    'solver': ['liblinear', 'lbfgs']\n",
    "}\n",
    "# Defining parameters for decision tree model\n",
    "param_grid_tree = {\n",
    "    'max_depth': [6, 7, 8],\n",
    "    'min_samples_split': [5, 10, 15],\n",
    "    'min_samples_leaf': [5, 10, 15],\n",
    "    'criterion': ['gini', 'entropy'],\n",
    "    'max_features': ['sqrt','log2']\n",
    "}\n",
    "\n",
    "# Initializing models\n",
    "logistic = LogisticRegression(random_state=42)\n",
    "decision_tree = DecisionTreeClassifier(random_state=42)\n",
    "\n",
    "# Performing Grid Search for Logistic Regression\n",
    "grid_logistic = GridSearchCV(logistic, param_grid_logistic, cv=5, scoring='roc_auc', n_jobs=-1)\n",
    "grid_logistic.fit(X_train_balanced, y_train_balanced)\n",
    "\n",
    "# Performing Grid Search for Decision Tree\n",
    "grid_tree = GridSearchCV(decision_tree, param_grid_tree, cv=5, scoring='roc_auc', n_jobs=-1)\n",
    "grid_tree.fit(X_train_balanced, y_train_balanced)\n",
    "\n",
    "# Getting the best models estimators\n",
    "best_logistic = grid_logistic.best_estimator_\n",
    "best_tree = grid_tree.best_estimator_\n",
    "\n",
    "# Initializing ROC-AUC curves for the both models\n",
    "plt.figure(figsize=(10, 6))\n",
    "\n",
    "for model, name in [(best_logistic, \"Logistic Regression\"), (best_tree, \"Decision Tree\")]:\n",
    "    y_pred_proba = model.predict_proba(X_test)[:, 1]\n",
    "    fpr, tpr, _ = roc_curve(y_test, y_pred_proba)\n",
    "    roc_auc = auc(fpr, tpr)\n",
    "    plt.plot(fpr, tpr, label=f\"{name} (AUC = {roc_auc:.2f})\")\n",
    "\n",
    "# Plotting the ROC-AUC plot\n",
    "plt.plot([0, 1], [0, 1], color='gray', linestyle='--')  # plotting the diagonal line\n",
    "plt.xlabel('False Positive Rate')\n",
    "plt.ylabel('True Positive Rate')\n",
    "plt.title('ROC-AUC Curve for Tuned Models')\n",
    "plt.legend(loc='lower right')\n",
    "plt.show()"
   ]
  },
  {
   "cell_type": "markdown",
   "metadata": {},
   "source": [
    "## Findings\n",
    "  - From our analysis,modelling and model optimization through hyperparameter tuning, we can conclude that the best model that we'll use to predicting customers who are likely to churn for SyriaTel Telcommunication is the Decision Tree Classifier as it out performs Logistic Regression.\n",
    "  - It has an AUC of 91% and a recall of 78% which is crucial for identifying actual churners and minimizing false alarms.\n",
    "  - Churn can lead to high revenue losses,a model with a high recall should be prioritized to ensure flagging of risky customers on time for retention measures to be applied.\n",
    "  - The model needs improvement and therefore needs continous monitoring of performance metrics.\n",
    "  - Implement regular model retraining with fresh data.\n"
   ]
  },
  {
   "cell_type": "markdown",
   "metadata": {},
   "source": [
    "## Recommendations"
   ]
  },
  {
   "cell_type": "markdown",
   "metadata": {},
   "source": [
    "Based on the feature analysis,there are different reasons why customers churn and from our analysis,we had some strong correlation between actual churners and some predictors. This will lay the foundation for this recommendations;\n",
    "\n",
    "1.**International plan monitoring**\n",
    "   - The company shound conduct and review the call quality,prices and the hidden charges that are associated to the international plan. Since most churners fall in this category,the company can tailor  personalized international bundles or give existing ones at a dicounted price.There should also be transparency in billing.\n",
    "   - Surveys also should be conducted targetting the international users to get important feedbacks that can be used to curb churning.\n",
    "\n",
    "2.**Customer Service Experience**\n",
    "  \n",
    "  The more a customer calls the service line,they more likely they are to churn. This can indicate dissatisfaction with the services or simply frustration.This can be solved by:\n",
    "   - Proper training to the customer care assistants to improve response and the speed at which they handle issues as they arise.\n",
    "   - Track repeat callers and forward their issues to more specialized team for speedy resolution,\n",
    "   - Introduce self-service options like chatbots or FAQs to resolve issues that are mostly common.\n",
    "\n",
    "3.**Pricing for Daytime Usage**\n",
    "  \n",
    "  High total day charges and daytime minutes charge are one of the key drivers to churn. The following actions should be taken inorder to handle this:\n",
    "   - Review daytime tariffs.Consider lowering costs for frequent users\n",
    "   - Offer alerts to customers which inform then when they charges are about to reach a costly limit.\n",
    "   - Have different plans for users that can suit each of their call habits."
   ]
  },
  {
   "cell_type": "markdown",
   "metadata": {},
   "source": [
    "## Next Step"
   ]
  },
  {
   "cell_type": "markdown",
   "metadata": {},
   "source": [
    "The targeted recall score of 85% is not achieved by the best performing model. There is still some overfitting in the model irregardless of hyperparameter tuning.\n",
    "The training data size should be increased to reduce overfitting and hence improve model performance"
   ]
  }
 ],
 "metadata": {
  "kernelspec": {
   "display_name": "base",
   "language": "python",
   "name": "python3"
  },
  "language_info": {
   "codemirror_mode": {
    "name": "ipython",
    "version": 3
   },
   "file_extension": ".py",
   "mimetype": "text/x-python",
   "name": "python",
   "nbconvert_exporter": "python",
   "pygments_lexer": "ipython3",
   "version": "3.12.7"
  }
 },
 "nbformat": 4,
 "nbformat_minor": 2
}
